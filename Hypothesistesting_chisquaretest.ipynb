{
 "cells": [
  {
   "cell_type": "markdown",
   "id": "8c93be58-7a4c-4b79-9c30-13a77ebd1dab",
   "metadata": {},
   "source": [
    "## Chi-Square test"
   ]
  },
  {
   "cell_type": "markdown",
   "id": "f69fc205-60ff-4863-90b4-931b3bded712",
   "metadata": {},
   "source": [
    "#stating the Hypotheses"
   ]
  },
  {
   "cell_type": "markdown",
   "id": "fa5f2ddd-f265-4b89-93d6-791e50ca0708",
   "metadata": {},
   "source": [
    "H0:Variables are independent\n",
    "H1:Variables are dependent"
   ]
  },
  {
   "cell_type": "markdown",
   "id": "70ba2545-e562-47a0-a214-f1678d8e4447",
   "metadata": {},
   "source": [
    "Null Hypothesis (H0): There is no significant association between the type of smart home device purchased (Smart Thermostats vs. Smart Lights) and the customer satisfaction level.\n",
    "Alternative Hypothesis (H1): There is a significant association between the type of smart home device purchased and the customer satisfaction level.\n"
   ]
  },
  {
   "cell_type": "markdown",
   "id": "3857a64a-090b-42f6-a5c1-42fb5f5a6f9b",
   "metadata": {},
   "source": [
    "#computing the chi-square statistic"
   ]
  },
  {
   "cell_type": "markdown",
   "id": "ad2c4e33-903d-40a0-9c3d-6c06b76d4647",
   "metadata": {},
   "source": [
    "Chi-square calculated=sum[(O-E)^2/E]\n",
    "where,\n",
    "O=Observed Frequency\n",
    "E=Expected Frequency"
   ]
  },
  {
   "cell_type": "markdown",
   "id": "490eb8f2-87e8-49f6-9780-a4b0ec3a1f25",
   "metadata": {},
   "source": [
    "#Determining the Critical Value"
   ]
  },
  {
   "cell_type": "markdown",
   "id": "3f574582-3422-446e-8354-68189cb36066",
   "metadata": {},
   "source": [
    "The critical value can be determined using the Chi-Square distribution table. The degrees of freedom (df) for this test can be calculated as:\n",
    "\n",
    "df = (r - 1)(c - 1)\n",
    "where,\n",
    "r=no. of rows(satistaction levels)\n",
    "c=no. of columns(device types)"
   ]
  },
  {
   "cell_type": "markdown",
   "id": "46dd52ec-ba63-46e6-97a1-28e221f7c448",
   "metadata": {},
   "source": [
    "df=(5-1)(2-1)=4*1=4\n",
    "df=4"
   ]
  },
  {
   "cell_type": "code",
   "execution_count": 23,
   "id": "0f09d24f-0eea-401f-a93f-60e5f1181271",
   "metadata": {},
   "outputs": [],
   "source": [
    "#for chi-square, significance level(alpha)=0.05(5%)\n",
    "#degrees of freedom(df)=4"
   ]
  },
  {
   "cell_type": "code",
   "execution_count": 25,
   "id": "20152f6f-d34c-4010-94c5-fe4b04835dad",
   "metadata": {},
   "outputs": [
    {
     "data": {
      "text/plain": [
       "(5.638227513227513, 9.487729036781154)"
      ]
     },
     "execution_count": 25,
     "metadata": {},
     "output_type": "execute_result"
    }
   ],
   "source": [
    "import numpy as np\n",
    "import scipy.stats as stats\n",
    "\n",
    "# Observed frequencies from the contingency table\n",
    "observed = np.array([[50, 70],\n",
    "                     [80, 100],\n",
    "                     [60, 90],\n",
    "                     [30, 50],\n",
    "                     [20, 50]])\n",
    "\n",
    "# Calculate the expected frequencies\n",
    "total = observed.sum()\n",
    "row_sums = observed.sum(axis=1)\n",
    "col_sums = observed.sum(axis=0)\n",
    "expected = np.outer(row_sums, col_sums) / total\n",
    "\n",
    "# Calculate the Chi-Square statistic\n",
    "chi_square_statistic = ((observed - expected) ** 2 / expected).sum()\n",
    "\n",
    "# Determine the critical value\n",
    "alpha = 0.05\n",
    "df = (observed.shape[0] - 1) * (observed.shape[1] - 1)\n",
    "critical_value = stats.chi2.ppf(1 - alpha, df)\n",
    "\n",
    "chi_square_statistic, critical_value"
   ]
  },
  {
   "cell_type": "markdown",
   "id": "3e5fd47d-99b5-4578-a6b7-f0988ee69d69",
   "metadata": {},
   "source": [
    "Here If Chi-Sqaure Statistic  is greater than the critical value, we reject the null hypothesis, indicating a significant association between device type and customer satisfaction. If it is less, we fail to reject the null hypothesis. "
   ]
  },
  {
   "cell_type": "markdown",
   "id": "1bad5372-62c1-4360-8ef9-dcbd57fe44bd",
   "metadata": {},
   "source": [
    "So, here Null Hypothesis is accepeted\n",
    "i.e There is no significant association between the type of smart home device purchased (Smart Thermostats vs. Smart Lights) and the customer satisfaction level. "
   ]
  }
 ],
 "metadata": {
  "kernelspec": {
   "display_name": "Python 3 (ipykernel)",
   "language": "python",
   "name": "python3"
  },
  "language_info": {
   "codemirror_mode": {
    "name": "ipython",
    "version": 3
   },
   "file_extension": ".py",
   "mimetype": "text/x-python",
   "name": "python",
   "nbconvert_exporter": "python",
   "pygments_lexer": "ipython3",
   "version": "3.10.14"
  }
 },
 "nbformat": 4,
 "nbformat_minor": 5
}

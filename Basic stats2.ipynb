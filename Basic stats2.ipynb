{
 "cells": [
  {
   "cell_type": "markdown",
   "id": "863ae232-5611-4cf3-91e7-c1ba903359db",
   "metadata": {},
   "source": [
    "Building 99% Confidence Interval using Sample Standard Deviation"
   ]
  },
  {
   "cell_type": "code",
   "execution_count": 7,
   "id": "a00ef793-e816-4e33-b760-562497ebb577",
   "metadata": {},
   "outputs": [],
   "source": [
    "import pandas as pd\n",
    "import numpy as np\n",
    "import scipy.stats as stats"
   ]
  },
  {
   "cell_type": "code",
   "execution_count": 9,
   "id": "a0324791-1da8-4b0a-960d-eec7f55589ce",
   "metadata": {},
   "outputs": [
    {
     "data": {
      "text/plain": [
       "(1.2386666666666666,\n",
       " 0.19316412956959936,\n",
       " 2.9768427343708344,\n",
       " 0.148469328228176,\n",
       " (1.0901973384384906, 1.3871359948948425))"
      ]
     },
     "execution_count": 9,
     "metadata": {},
     "output_type": "execute_result"
    }
   ],
   "source": [
    "# Given Sample data\n",
    "durability = np.array([1.13, 1.55, 1.43, 0.92, 1.25, 1.36, 1.32, 0.85, 1.07, 1.48, 1.20, 1.33, 1.18, 1.22, 1.29])\n",
    "\n",
    "# Step 1: Calculating sample mean and sample standard deviation\n",
    "sample_mean = np.mean(durability)\n",
    "sample_std = np.std(durability, ddof=1)  # Sample standard deviation\n",
    "n = len(durability)\n",
    "\n",
    "# Step 2: Determine the t-value for 99% confidence level\n",
    "confidence_level = 0.99\n",
    "alpha = 1 - confidence_level\n",
    "t_value = stats.t.ppf(1 - alpha/2, df=n-1)\n",
    "\n",
    "# Step 3: Calculate the margin of error\n",
    "margin_of_error = t_value * (sample_std / np.sqrt(n))\n",
    "\n",
    "# Step 4: Construct the confidence interval\n",
    "confidence_interval = (sample_mean - margin_of_error, sample_mean + margin_of_error)\n",
    "\n",
    "sample_mean, sample_std, t_value, margin_of_error, confidence_interval"
   ]
  },
  {
   "cell_type": "markdown",
   "id": "bf0b6ebc-e2c4-4705-9a7e-e5058c2fa1e9",
   "metadata": {},
   "source": [
    "the sample size is small (n < 30), so we will use the t-distribution and we need to find the t-value corresponding to a 99% confidence level and (n-1) degrees of freedom, that is df= n-1= 15-1 (df = 14)."
   ]
  },
  {
   "cell_type": "code",
   "execution_count": 25,
   "id": "0c72cd9e-50dd-406c-9c32-9d7babe97e18",
   "metadata": {},
   "outputs": [
    {
     "data": {
      "text/plain": [
       "(2.5758293035489004,\n",
       " 0.13301525327090588,\n",
       " (1.1056514133957607, 1.3716819199375725))"
      ]
     },
     "execution_count": 25,
     "metadata": {},
     "output_type": "execute_result"
    }
   ],
   "source": [
    "# Known population standard deviation\n",
    "population_std = 0.2  # million characters\n",
    "\n",
    "# Step 1: Determine the z-value for 99% confidence level\n",
    "z_value = stats.norm.ppf(1 - alpha/2)\n",
    "\n",
    "# Step 2: Calculate the margin of error using population standard deviation\n",
    "margin_of_error_population = z_value * (population_std / np.sqrt(n))\n",
    "\n",
    "# Step 3: Construct the confidence interval\n",
    "confidence_interval_population = (sample_mean - margin_of_error_population, sample_mean + margin_of_error_population)\n",
    "\n",
    "z_value, margin_of_error_population, confidence_interval_population"
   ]
  },
  {
   "cell_type": "markdown",
   "id": "6f71e0ed-05cb-413f-8360-4be9a98ff2fd",
   "metadata": {},
   "source": [
    "This approach ensures that we accurately estimate the mean durability of the print-heads while considering the nature of the data and the available information"
   ]
  }
 ],
 "metadata": {
  "kernelspec": {
   "display_name": "Python 3 (ipykernel)",
   "language": "python",
   "name": "python3"
  },
  "language_info": {
   "codemirror_mode": {
    "name": "ipython",
    "version": 3
   },
   "file_extension": ".py",
   "mimetype": "text/x-python",
   "name": "python",
   "nbconvert_exporter": "python",
   "pygments_lexer": "ipython3",
   "version": "3.10.14"
  }
 },
 "nbformat": 4,
 "nbformat_minor": 5
}

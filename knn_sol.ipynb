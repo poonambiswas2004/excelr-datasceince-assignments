{
 "cells": [
  {
   "cell_type": "markdown",
   "id": "848ce3b7",
   "metadata": {},
   "source": [
    "# Objective:\n",
    "\n",
    "The objective of this assignment is to implement and evaluate the K-Nearest Neighbours algorithm for classification using the given datasets\n",
    "\n"
   ]
  },
  {
   "cell_type": "code",
   "execution_count": 39,
   "id": "4d38b969",
   "metadata": {},
   "outputs": [
    {
     "data": {
      "text/html": [
       "<div>\n",
       "<style scoped>\n",
       "    .dataframe tbody tr th:only-of-type {\n",
       "        vertical-align: middle;\n",
       "    }\n",
       "\n",
       "    .dataframe tbody tr th {\n",
       "        vertical-align: top;\n",
       "    }\n",
       "\n",
       "    .dataframe thead th {\n",
       "        text-align: right;\n",
       "    }\n",
       "</style>\n",
       "<table border=\"1\" class=\"dataframe\">\n",
       "  <thead>\n",
       "    <tr style=\"text-align: right;\">\n",
       "      <th></th>\n",
       "      <th>animal name</th>\n",
       "      <th>hair</th>\n",
       "      <th>feathers</th>\n",
       "      <th>eggs</th>\n",
       "      <th>milk</th>\n",
       "      <th>airborne</th>\n",
       "      <th>aquatic</th>\n",
       "      <th>predator</th>\n",
       "      <th>toothed</th>\n",
       "      <th>backbone</th>\n",
       "      <th>breathes</th>\n",
       "      <th>venomous</th>\n",
       "      <th>fins</th>\n",
       "      <th>legs</th>\n",
       "      <th>tail</th>\n",
       "      <th>domestic</th>\n",
       "      <th>catsize</th>\n",
       "      <th>type</th>\n",
       "    </tr>\n",
       "  </thead>\n",
       "  <tbody>\n",
       "    <tr>\n",
       "      <th>0</th>\n",
       "      <td>aardvark</td>\n",
       "      <td>1</td>\n",
       "      <td>0</td>\n",
       "      <td>0</td>\n",
       "      <td>1</td>\n",
       "      <td>0</td>\n",
       "      <td>0</td>\n",
       "      <td>1</td>\n",
       "      <td>1</td>\n",
       "      <td>1</td>\n",
       "      <td>1</td>\n",
       "      <td>0</td>\n",
       "      <td>0</td>\n",
       "      <td>4</td>\n",
       "      <td>0</td>\n",
       "      <td>0</td>\n",
       "      <td>1</td>\n",
       "      <td>1</td>\n",
       "    </tr>\n",
       "    <tr>\n",
       "      <th>1</th>\n",
       "      <td>antelope</td>\n",
       "      <td>1</td>\n",
       "      <td>0</td>\n",
       "      <td>0</td>\n",
       "      <td>1</td>\n",
       "      <td>0</td>\n",
       "      <td>0</td>\n",
       "      <td>0</td>\n",
       "      <td>1</td>\n",
       "      <td>1</td>\n",
       "      <td>1</td>\n",
       "      <td>0</td>\n",
       "      <td>0</td>\n",
       "      <td>4</td>\n",
       "      <td>1</td>\n",
       "      <td>0</td>\n",
       "      <td>1</td>\n",
       "      <td>1</td>\n",
       "    </tr>\n",
       "    <tr>\n",
       "      <th>2</th>\n",
       "      <td>bass</td>\n",
       "      <td>0</td>\n",
       "      <td>0</td>\n",
       "      <td>1</td>\n",
       "      <td>0</td>\n",
       "      <td>0</td>\n",
       "      <td>1</td>\n",
       "      <td>1</td>\n",
       "      <td>1</td>\n",
       "      <td>1</td>\n",
       "      <td>0</td>\n",
       "      <td>0</td>\n",
       "      <td>1</td>\n",
       "      <td>0</td>\n",
       "      <td>1</td>\n",
       "      <td>0</td>\n",
       "      <td>0</td>\n",
       "      <td>4</td>\n",
       "    </tr>\n",
       "    <tr>\n",
       "      <th>3</th>\n",
       "      <td>bear</td>\n",
       "      <td>1</td>\n",
       "      <td>0</td>\n",
       "      <td>0</td>\n",
       "      <td>1</td>\n",
       "      <td>0</td>\n",
       "      <td>0</td>\n",
       "      <td>1</td>\n",
       "      <td>1</td>\n",
       "      <td>1</td>\n",
       "      <td>1</td>\n",
       "      <td>0</td>\n",
       "      <td>0</td>\n",
       "      <td>4</td>\n",
       "      <td>0</td>\n",
       "      <td>0</td>\n",
       "      <td>1</td>\n",
       "      <td>1</td>\n",
       "    </tr>\n",
       "    <tr>\n",
       "      <th>4</th>\n",
       "      <td>boar</td>\n",
       "      <td>1</td>\n",
       "      <td>0</td>\n",
       "      <td>0</td>\n",
       "      <td>1</td>\n",
       "      <td>0</td>\n",
       "      <td>0</td>\n",
       "      <td>1</td>\n",
       "      <td>1</td>\n",
       "      <td>1</td>\n",
       "      <td>1</td>\n",
       "      <td>0</td>\n",
       "      <td>0</td>\n",
       "      <td>4</td>\n",
       "      <td>1</td>\n",
       "      <td>0</td>\n",
       "      <td>1</td>\n",
       "      <td>1</td>\n",
       "    </tr>\n",
       "  </tbody>\n",
       "</table>\n",
       "</div>"
      ],
      "text/plain": [
       "  animal name  hair  feathers  eggs  milk  airborne  aquatic  predator  \\\n",
       "0    aardvark     1         0     0     1         0        0         1   \n",
       "1    antelope     1         0     0     1         0        0         0   \n",
       "2        bass     0         0     1     0         0        1         1   \n",
       "3        bear     1         0     0     1         0        0         1   \n",
       "4        boar     1         0     0     1         0        0         1   \n",
       "\n",
       "   toothed  backbone  breathes  venomous  fins  legs  tail  domestic  catsize  \\\n",
       "0        1         1         1         0     0     4     0         0        1   \n",
       "1        1         1         1         0     0     4     1         0        1   \n",
       "2        1         1         0         0     1     0     1         0        0   \n",
       "3        1         1         1         0     0     4     0         0        1   \n",
       "4        1         1         1         0     0     4     1         0        1   \n",
       "\n",
       "   type  \n",
       "0     1  \n",
       "1     1  \n",
       "2     4  \n",
       "3     1  \n",
       "4     1  "
      ]
     },
     "execution_count": 39,
     "metadata": {},
     "output_type": "execute_result"
    }
   ],
   "source": [
    "import pandas as pd \n",
    "import numpy as np \n",
    "from pandas import read_csv\n",
    "import numpy as np\n",
    "from sklearn.model_selection import KFold\n",
    "from sklearn.model_selection import cross_val_score\n",
    "from sklearn.neighbors import KNeighborsClassifier\n",
    "df=pd.read_csv(\"Zoo.csv\")\n",
    "df.head()"
   ]
  },
  {
   "cell_type": "code",
   "execution_count": 2,
   "id": "fd57faa2",
   "metadata": {},
   "outputs": [
    {
     "name": "stdout",
     "output_type": "stream",
     "text": [
      "<class 'pandas.core.frame.DataFrame'>\n",
      "RangeIndex: 101 entries, 0 to 100\n",
      "Data columns (total 18 columns):\n",
      " #   Column       Non-Null Count  Dtype \n",
      "---  ------       --------------  ----- \n",
      " 0   animal name  101 non-null    object\n",
      " 1   hair         101 non-null    int64 \n",
      " 2   feathers     101 non-null    int64 \n",
      " 3   eggs         101 non-null    int64 \n",
      " 4   milk         101 non-null    int64 \n",
      " 5   airborne     101 non-null    int64 \n",
      " 6   aquatic      101 non-null    int64 \n",
      " 7   predator     101 non-null    int64 \n",
      " 8   toothed      101 non-null    int64 \n",
      " 9   backbone     101 non-null    int64 \n",
      " 10  breathes     101 non-null    int64 \n",
      " 11  venomous     101 non-null    int64 \n",
      " 12  fins         101 non-null    int64 \n",
      " 13  legs         101 non-null    int64 \n",
      " 14  tail         101 non-null    int64 \n",
      " 15  domestic     101 non-null    int64 \n",
      " 16  catsize      101 non-null    int64 \n",
      " 17  type         101 non-null    int64 \n",
      "dtypes: int64(17), object(1)\n",
      "memory usage: 14.3+ KB\n"
     ]
    }
   ],
   "source": [
    "df.info()"
   ]
  },
  {
   "cell_type": "code",
   "execution_count": 3,
   "id": "067e217b",
   "metadata": {},
   "outputs": [
    {
     "data": {
      "text/plain": [
       "animal name\n",
       "frog        2\n",
       "pony        1\n",
       "sealion     1\n",
       "seal        1\n",
       "seahorse    1\n",
       "           ..\n",
       "gorilla     1\n",
       "goat        1\n",
       "gnat        1\n",
       "girl        1\n",
       "wren        1\n",
       "Name: count, Length: 100, dtype: int64"
      ]
     },
     "execution_count": 3,
     "metadata": {},
     "output_type": "execute_result"
    }
   ],
   "source": [
    "#value count of animal name\n",
    "df['animal name'].value_counts()"
   ]
  },
  {
   "cell_type": "code",
   "execution_count": 4,
   "id": "dbc0522f",
   "metadata": {},
   "outputs": [
    {
     "data": {
      "text/html": [
       "<div>\n",
       "<style scoped>\n",
       "    .dataframe tbody tr th:only-of-type {\n",
       "        vertical-align: middle;\n",
       "    }\n",
       "\n",
       "    .dataframe tbody tr th {\n",
       "        vertical-align: top;\n",
       "    }\n",
       "\n",
       "    .dataframe thead th {\n",
       "        text-align: right;\n",
       "    }\n",
       "</style>\n",
       "<table border=\"1\" class=\"dataframe\">\n",
       "  <thead>\n",
       "    <tr style=\"text-align: right;\">\n",
       "      <th></th>\n",
       "      <th>hair</th>\n",
       "      <th>feathers</th>\n",
       "      <th>eggs</th>\n",
       "      <th>milk</th>\n",
       "      <th>airborne</th>\n",
       "      <th>aquatic</th>\n",
       "      <th>predator</th>\n",
       "      <th>toothed</th>\n",
       "      <th>backbone</th>\n",
       "      <th>breathes</th>\n",
       "      <th>venomous</th>\n",
       "      <th>fins</th>\n",
       "      <th>legs</th>\n",
       "      <th>tail</th>\n",
       "      <th>domestic</th>\n",
       "      <th>catsize</th>\n",
       "      <th>type</th>\n",
       "    </tr>\n",
       "  </thead>\n",
       "  <tbody>\n",
       "    <tr>\n",
       "      <th>count</th>\n",
       "      <td>101.000000</td>\n",
       "      <td>101.000000</td>\n",
       "      <td>101.000000</td>\n",
       "      <td>101.000000</td>\n",
       "      <td>101.000000</td>\n",
       "      <td>101.000000</td>\n",
       "      <td>101.000000</td>\n",
       "      <td>101.000000</td>\n",
       "      <td>101.000000</td>\n",
       "      <td>101.000000</td>\n",
       "      <td>101.000000</td>\n",
       "      <td>101.000000</td>\n",
       "      <td>101.000000</td>\n",
       "      <td>101.000000</td>\n",
       "      <td>101.000000</td>\n",
       "      <td>101.000000</td>\n",
       "      <td>101.000000</td>\n",
       "    </tr>\n",
       "    <tr>\n",
       "      <th>mean</th>\n",
       "      <td>0.425743</td>\n",
       "      <td>0.198020</td>\n",
       "      <td>0.584158</td>\n",
       "      <td>0.405941</td>\n",
       "      <td>0.237624</td>\n",
       "      <td>0.356436</td>\n",
       "      <td>0.554455</td>\n",
       "      <td>0.603960</td>\n",
       "      <td>0.821782</td>\n",
       "      <td>0.792079</td>\n",
       "      <td>0.079208</td>\n",
       "      <td>0.168317</td>\n",
       "      <td>2.841584</td>\n",
       "      <td>0.742574</td>\n",
       "      <td>0.128713</td>\n",
       "      <td>0.435644</td>\n",
       "      <td>2.831683</td>\n",
       "    </tr>\n",
       "    <tr>\n",
       "      <th>std</th>\n",
       "      <td>0.496921</td>\n",
       "      <td>0.400495</td>\n",
       "      <td>0.495325</td>\n",
       "      <td>0.493522</td>\n",
       "      <td>0.427750</td>\n",
       "      <td>0.481335</td>\n",
       "      <td>0.499505</td>\n",
       "      <td>0.491512</td>\n",
       "      <td>0.384605</td>\n",
       "      <td>0.407844</td>\n",
       "      <td>0.271410</td>\n",
       "      <td>0.376013</td>\n",
       "      <td>2.033385</td>\n",
       "      <td>0.439397</td>\n",
       "      <td>0.336552</td>\n",
       "      <td>0.498314</td>\n",
       "      <td>2.102709</td>\n",
       "    </tr>\n",
       "    <tr>\n",
       "      <th>min</th>\n",
       "      <td>0.000000</td>\n",
       "      <td>0.000000</td>\n",
       "      <td>0.000000</td>\n",
       "      <td>0.000000</td>\n",
       "      <td>0.000000</td>\n",
       "      <td>0.000000</td>\n",
       "      <td>0.000000</td>\n",
       "      <td>0.000000</td>\n",
       "      <td>0.000000</td>\n",
       "      <td>0.000000</td>\n",
       "      <td>0.000000</td>\n",
       "      <td>0.000000</td>\n",
       "      <td>0.000000</td>\n",
       "      <td>0.000000</td>\n",
       "      <td>0.000000</td>\n",
       "      <td>0.000000</td>\n",
       "      <td>1.000000</td>\n",
       "    </tr>\n",
       "    <tr>\n",
       "      <th>25%</th>\n",
       "      <td>0.000000</td>\n",
       "      <td>0.000000</td>\n",
       "      <td>0.000000</td>\n",
       "      <td>0.000000</td>\n",
       "      <td>0.000000</td>\n",
       "      <td>0.000000</td>\n",
       "      <td>0.000000</td>\n",
       "      <td>0.000000</td>\n",
       "      <td>1.000000</td>\n",
       "      <td>1.000000</td>\n",
       "      <td>0.000000</td>\n",
       "      <td>0.000000</td>\n",
       "      <td>2.000000</td>\n",
       "      <td>0.000000</td>\n",
       "      <td>0.000000</td>\n",
       "      <td>0.000000</td>\n",
       "      <td>1.000000</td>\n",
       "    </tr>\n",
       "    <tr>\n",
       "      <th>50%</th>\n",
       "      <td>0.000000</td>\n",
       "      <td>0.000000</td>\n",
       "      <td>1.000000</td>\n",
       "      <td>0.000000</td>\n",
       "      <td>0.000000</td>\n",
       "      <td>0.000000</td>\n",
       "      <td>1.000000</td>\n",
       "      <td>1.000000</td>\n",
       "      <td>1.000000</td>\n",
       "      <td>1.000000</td>\n",
       "      <td>0.000000</td>\n",
       "      <td>0.000000</td>\n",
       "      <td>4.000000</td>\n",
       "      <td>1.000000</td>\n",
       "      <td>0.000000</td>\n",
       "      <td>0.000000</td>\n",
       "      <td>2.000000</td>\n",
       "    </tr>\n",
       "    <tr>\n",
       "      <th>75%</th>\n",
       "      <td>1.000000</td>\n",
       "      <td>0.000000</td>\n",
       "      <td>1.000000</td>\n",
       "      <td>1.000000</td>\n",
       "      <td>0.000000</td>\n",
       "      <td>1.000000</td>\n",
       "      <td>1.000000</td>\n",
       "      <td>1.000000</td>\n",
       "      <td>1.000000</td>\n",
       "      <td>1.000000</td>\n",
       "      <td>0.000000</td>\n",
       "      <td>0.000000</td>\n",
       "      <td>4.000000</td>\n",
       "      <td>1.000000</td>\n",
       "      <td>0.000000</td>\n",
       "      <td>1.000000</td>\n",
       "      <td>4.000000</td>\n",
       "    </tr>\n",
       "    <tr>\n",
       "      <th>max</th>\n",
       "      <td>1.000000</td>\n",
       "      <td>1.000000</td>\n",
       "      <td>1.000000</td>\n",
       "      <td>1.000000</td>\n",
       "      <td>1.000000</td>\n",
       "      <td>1.000000</td>\n",
       "      <td>1.000000</td>\n",
       "      <td>1.000000</td>\n",
       "      <td>1.000000</td>\n",
       "      <td>1.000000</td>\n",
       "      <td>1.000000</td>\n",
       "      <td>1.000000</td>\n",
       "      <td>8.000000</td>\n",
       "      <td>1.000000</td>\n",
       "      <td>1.000000</td>\n",
       "      <td>1.000000</td>\n",
       "      <td>7.000000</td>\n",
       "    </tr>\n",
       "  </tbody>\n",
       "</table>\n",
       "</div>"
      ],
      "text/plain": [
       "             hair    feathers        eggs        milk    airborne     aquatic  \\\n",
       "count  101.000000  101.000000  101.000000  101.000000  101.000000  101.000000   \n",
       "mean     0.425743    0.198020    0.584158    0.405941    0.237624    0.356436   \n",
       "std      0.496921    0.400495    0.495325    0.493522    0.427750    0.481335   \n",
       "min      0.000000    0.000000    0.000000    0.000000    0.000000    0.000000   \n",
       "25%      0.000000    0.000000    0.000000    0.000000    0.000000    0.000000   \n",
       "50%      0.000000    0.000000    1.000000    0.000000    0.000000    0.000000   \n",
       "75%      1.000000    0.000000    1.000000    1.000000    0.000000    1.000000   \n",
       "max      1.000000    1.000000    1.000000    1.000000    1.000000    1.000000   \n",
       "\n",
       "         predator     toothed    backbone    breathes    venomous        fins  \\\n",
       "count  101.000000  101.000000  101.000000  101.000000  101.000000  101.000000   \n",
       "mean     0.554455    0.603960    0.821782    0.792079    0.079208    0.168317   \n",
       "std      0.499505    0.491512    0.384605    0.407844    0.271410    0.376013   \n",
       "min      0.000000    0.000000    0.000000    0.000000    0.000000    0.000000   \n",
       "25%      0.000000    0.000000    1.000000    1.000000    0.000000    0.000000   \n",
       "50%      1.000000    1.000000    1.000000    1.000000    0.000000    0.000000   \n",
       "75%      1.000000    1.000000    1.000000    1.000000    0.000000    0.000000   \n",
       "max      1.000000    1.000000    1.000000    1.000000    1.000000    1.000000   \n",
       "\n",
       "             legs        tail    domestic     catsize        type  \n",
       "count  101.000000  101.000000  101.000000  101.000000  101.000000  \n",
       "mean     2.841584    0.742574    0.128713    0.435644    2.831683  \n",
       "std      2.033385    0.439397    0.336552    0.498314    2.102709  \n",
       "min      0.000000    0.000000    0.000000    0.000000    1.000000  \n",
       "25%      2.000000    0.000000    0.000000    0.000000    1.000000  \n",
       "50%      4.000000    1.000000    0.000000    0.000000    2.000000  \n",
       "75%      4.000000    1.000000    0.000000    1.000000    4.000000  \n",
       "max      8.000000    1.000000    1.000000    1.000000    7.000000  "
      ]
     },
     "execution_count": 4,
     "metadata": {},
     "output_type": "execute_result"
    }
   ],
   "source": [
    "#statistical summary of dataset\n",
    "df.describe()"
   ]
  },
  {
   "cell_type": "code",
   "execution_count": 5,
   "id": "282f116a",
   "metadata": {},
   "outputs": [
    {
     "data": {
      "text/plain": [
       "0"
      ]
     },
     "execution_count": 5,
     "metadata": {},
     "output_type": "execute_result"
    }
   ],
   "source": [
    "#checking for duplicates\n",
    "df.duplicated().sum()"
   ]
  },
  {
   "cell_type": "markdown",
   "id": "456bb52f",
   "metadata": {},
   "source": [
    "EDA"
   ]
  },
  {
   "cell_type": "code",
   "execution_count": 6,
   "id": "d6d493ff",
   "metadata": {},
   "outputs": [
    {
     "data": {
      "text/plain": [
       "array([[<Axes: title={'center': 'hair'}>,\n",
       "        <Axes: title={'center': 'feathers'}>,\n",
       "        <Axes: title={'center': 'eggs'}>,\n",
       "        <Axes: title={'center': 'milk'}>],\n",
       "       [<Axes: title={'center': 'airborne'}>,\n",
       "        <Axes: title={'center': 'aquatic'}>,\n",
       "        <Axes: title={'center': 'predator'}>,\n",
       "        <Axes: title={'center': 'toothed'}>],\n",
       "       [<Axes: title={'center': 'backbone'}>,\n",
       "        <Axes: title={'center': 'breathes'}>,\n",
       "        <Axes: title={'center': 'venomous'}>,\n",
       "        <Axes: title={'center': 'fins'}>],\n",
       "       [<Axes: title={'center': 'legs'}>,\n",
       "        <Axes: title={'center': 'tail'}>,\n",
       "        <Axes: title={'center': 'domestic'}>,\n",
       "        <Axes: title={'center': 'catsize'}>],\n",
       "       [<Axes: title={'center': 'type'}>, <Axes: >, <Axes: >, <Axes: >]],\n",
       "      dtype=object)"
      ]
     },
     "execution_count": 6,
     "metadata": {},
     "output_type": "execute_result"
    },
    {
     "data": {
      "image/png": "[encoded data removed]",
      "text/plain": [
       "<Figure size 2000x2000 with 20 Axes>"
      ]
     },
     "metadata": {},
     "output_type": "display_data"
    }
   ],
   "source": [
    "#histogram of dataset\n",
    "df.hist(figsize=(20,20))"
   ]
  },
  {
   "cell_type": "code",
   "execution_count": 7,
   "id": "5fa7dc1e",
   "metadata": {},
   "outputs": [],
   "source": [
    "#dropping animal name feature since it is just a unique identifier and not useful for model\n",
    "df1 = df.drop('animal name', axis = 1)"
   ]
  },
  {
   "cell_type": "code",
   "execution_count": 8,
   "id": "89893374",
   "metadata": {},
   "outputs": [
    {
     "data": {
      "text/plain": [
       "Index(['hair', 'feathers', 'eggs', 'milk', 'airborne', 'aquatic', 'predator',\n",
       "       'toothed', 'backbone', 'breathes', 'venomous', 'fins', 'legs', 'tail',\n",
       "       'domestic', 'catsize', 'type'],\n",
       "      dtype='object')"
      ]
     },
     "execution_count": 8,
     "metadata": {},
     "output_type": "execute_result"
    }
   ],
   "source": [
    "#columns in new dataframe\n",
    "df1.columns"
   ]
  },
  {
   "cell_type": "code",
   "execution_count": 9,
   "id": "8a1843c2",
   "metadata": {},
   "outputs": [
    {
     "data": {
      "text/html": [
       "<div>\n",
       "<style scoped>\n",
       "    .dataframe tbody tr th:only-of-type {\n",
       "        vertical-align: middle;\n",
       "    }\n",
       "\n",
       "    .dataframe tbody tr th {\n",
       "        vertical-align: top;\n",
       "    }\n",
       "\n",
       "    .dataframe thead th {\n",
       "        text-align: right;\n",
       "    }\n",
       "</style>\n",
       "<table border=\"1\" class=\"dataframe\">\n",
       "  <thead>\n",
       "    <tr style=\"text-align: right;\">\n",
       "      <th></th>\n",
       "      <th>hair</th>\n",
       "      <th>feathers</th>\n",
       "      <th>eggs</th>\n",
       "      <th>milk</th>\n",
       "      <th>airborne</th>\n",
       "      <th>aquatic</th>\n",
       "      <th>predator</th>\n",
       "      <th>toothed</th>\n",
       "      <th>backbone</th>\n",
       "      <th>breathes</th>\n",
       "      <th>venomous</th>\n",
       "      <th>fins</th>\n",
       "      <th>legs</th>\n",
       "      <th>tail</th>\n",
       "      <th>domestic</th>\n",
       "      <th>catsize</th>\n",
       "      <th>type</th>\n",
       "    </tr>\n",
       "  </thead>\n",
       "  <tbody>\n",
       "    <tr>\n",
       "      <th>hair</th>\n",
       "      <td>1.000000</td>\n",
       "      <td>-0.427851</td>\n",
       "      <td>-0.817382</td>\n",
       "      <td>0.878503</td>\n",
       "      <td>-0.198431</td>\n",
       "      <td>-0.473554</td>\n",
       "      <td>-0.154769</td>\n",
       "      <td>0.492531</td>\n",
       "      <td>0.191681</td>\n",
       "      <td>0.441149</td>\n",
       "      <td>-0.104245</td>\n",
       "      <td>-0.280313</td>\n",
       "      <td>0.394009</td>\n",
       "      <td>0.048973</td>\n",
       "      <td>0.207208</td>\n",
       "      <td>0.455020</td>\n",
       "      <td>-0.562384</td>\n",
       "    </tr>\n",
       "    <tr>\n",
       "      <th>feathers</th>\n",
       "      <td>-0.427851</td>\n",
       "      <td>1.000000</td>\n",
       "      <td>0.419248</td>\n",
       "      <td>-0.410761</td>\n",
       "      <td>0.656553</td>\n",
       "      <td>-0.058552</td>\n",
       "      <td>-0.104430</td>\n",
       "      <td>-0.613631</td>\n",
       "      <td>0.231403</td>\n",
       "      <td>0.254588</td>\n",
       "      <td>-0.145739</td>\n",
       "      <td>-0.223541</td>\n",
       "      <td>-0.206686</td>\n",
       "      <td>0.292569</td>\n",
       "      <td>0.031586</td>\n",
       "      <td>-0.135934</td>\n",
       "      <td>-0.197520</td>\n",
       "    </tr>\n",
       "    <tr>\n",
       "      <th>eggs</th>\n",
       "      <td>-0.817382</td>\n",
       "      <td>0.419248</td>\n",
       "      <td>1.000000</td>\n",
       "      <td>-0.938848</td>\n",
       "      <td>0.376646</td>\n",
       "      <td>0.376244</td>\n",
       "      <td>0.011605</td>\n",
       "      <td>-0.642150</td>\n",
       "      <td>-0.340420</td>\n",
       "      <td>-0.382777</td>\n",
       "      <td>0.098689</td>\n",
       "      <td>0.164796</td>\n",
       "      <td>-0.224918</td>\n",
       "      <td>-0.221090</td>\n",
       "      <td>-0.155610</td>\n",
       "      <td>-0.514650</td>\n",
       "      <td>0.661825</td>\n",
       "    </tr>\n",
       "    <tr>\n",
       "      <th>milk</th>\n",
       "      <td>0.878503</td>\n",
       "      <td>-0.410761</td>\n",
       "      <td>-0.938848</td>\n",
       "      <td>1.000000</td>\n",
       "      <td>-0.366765</td>\n",
       "      <td>-0.362613</td>\n",
       "      <td>-0.029721</td>\n",
       "      <td>0.628168</td>\n",
       "      <td>0.384958</td>\n",
       "      <td>0.423527</td>\n",
       "      <td>-0.242449</td>\n",
       "      <td>-0.156328</td>\n",
       "      <td>0.214196</td>\n",
       "      <td>0.210026</td>\n",
       "      <td>0.163928</td>\n",
       "      <td>0.574906</td>\n",
       "      <td>-0.723683</td>\n",
       "    </tr>\n",
       "    <tr>\n",
       "      <th>airborne</th>\n",
       "      <td>-0.198431</td>\n",
       "      <td>0.656553</td>\n",
       "      <td>0.376646</td>\n",
       "      <td>-0.366765</td>\n",
       "      <td>1.000000</td>\n",
       "      <td>-0.172638</td>\n",
       "      <td>-0.295181</td>\n",
       "      <td>-0.594311</td>\n",
       "      <td>-0.104718</td>\n",
       "      <td>0.286039</td>\n",
       "      <td>0.008528</td>\n",
       "      <td>-0.251157</td>\n",
       "      <td>0.043712</td>\n",
       "      <td>0.009482</td>\n",
       "      <td>0.063274</td>\n",
       "      <td>-0.349768</td>\n",
       "      <td>0.022677</td>\n",
       "    </tr>\n",
       "    <tr>\n",
       "      <th>aquatic</th>\n",
       "      <td>-0.473554</td>\n",
       "      <td>-0.058552</td>\n",
       "      <td>0.376244</td>\n",
       "      <td>-0.362613</td>\n",
       "      <td>-0.172638</td>\n",
       "      <td>1.000000</td>\n",
       "      <td>0.375978</td>\n",
       "      <td>0.053150</td>\n",
       "      <td>0.022463</td>\n",
       "      <td>-0.637506</td>\n",
       "      <td>0.087915</td>\n",
       "      <td>0.604492</td>\n",
       "      <td>-0.360638</td>\n",
       "      <td>-0.034642</td>\n",
       "      <td>-0.224308</td>\n",
       "      <td>-0.111866</td>\n",
       "      <td>0.326639</td>\n",
       "    </tr>\n",
       "    <tr>\n",
       "      <th>predator</th>\n",
       "      <td>-0.154769</td>\n",
       "      <td>-0.104430</td>\n",
       "      <td>0.011605</td>\n",
       "      <td>-0.029721</td>\n",
       "      <td>-0.295181</td>\n",
       "      <td>0.375978</td>\n",
       "      <td>1.000000</td>\n",
       "      <td>0.129452</td>\n",
       "      <td>0.051022</td>\n",
       "      <td>-0.262931</td>\n",
       "      <td>0.115391</td>\n",
       "      <td>0.190302</td>\n",
       "      <td>-0.099723</td>\n",
       "      <td>0.018947</td>\n",
       "      <td>-0.309794</td>\n",
       "      <td>0.144790</td>\n",
       "      <td>0.061179</td>\n",
       "    </tr>\n",
       "    <tr>\n",
       "      <th>toothed</th>\n",
       "      <td>0.492531</td>\n",
       "      <td>-0.613631</td>\n",
       "      <td>-0.642150</td>\n",
       "      <td>0.628168</td>\n",
       "      <td>-0.594311</td>\n",
       "      <td>0.053150</td>\n",
       "      <td>0.129452</td>\n",
       "      <td>1.000000</td>\n",
       "      <td>0.575085</td>\n",
       "      <td>-0.065690</td>\n",
       "      <td>-0.062344</td>\n",
       "      <td>0.364292</td>\n",
       "      <td>-0.193476</td>\n",
       "      <td>0.310368</td>\n",
       "      <td>0.069430</td>\n",
       "      <td>0.344010</td>\n",
       "      <td>-0.471527</td>\n",
       "    </tr>\n",
       "    <tr>\n",
       "      <th>backbone</th>\n",
       "      <td>0.191681</td>\n",
       "      <td>0.231403</td>\n",
       "      <td>-0.340420</td>\n",
       "      <td>0.384958</td>\n",
       "      <td>-0.104718</td>\n",
       "      <td>0.022463</td>\n",
       "      <td>0.051022</td>\n",
       "      <td>0.575085</td>\n",
       "      <td>1.000000</td>\n",
       "      <td>0.207666</td>\n",
       "      <td>-0.246611</td>\n",
       "      <td>0.209499</td>\n",
       "      <td>-0.432856</td>\n",
       "      <td>0.731762</td>\n",
       "      <td>0.101733</td>\n",
       "      <td>0.356976</td>\n",
       "      <td>-0.828845</td>\n",
       "    </tr>\n",
       "    <tr>\n",
       "      <th>breathes</th>\n",
       "      <td>0.441149</td>\n",
       "      <td>0.254588</td>\n",
       "      <td>-0.382777</td>\n",
       "      <td>0.423527</td>\n",
       "      <td>0.286039</td>\n",
       "      <td>-0.637506</td>\n",
       "      <td>-0.262931</td>\n",
       "      <td>-0.065690</td>\n",
       "      <td>0.207666</td>\n",
       "      <td>1.000000</td>\n",
       "      <td>-0.120752</td>\n",
       "      <td>-0.617219</td>\n",
       "      <td>0.369868</td>\n",
       "      <td>0.088952</td>\n",
       "      <td>0.124068</td>\n",
       "      <td>0.204125</td>\n",
       "      <td>-0.519308</td>\n",
       "    </tr>\n",
       "    <tr>\n",
       "      <th>venomous</th>\n",
       "      <td>-0.104245</td>\n",
       "      <td>-0.145739</td>\n",
       "      <td>0.098689</td>\n",
       "      <td>-0.242449</td>\n",
       "      <td>0.008528</td>\n",
       "      <td>0.087915</td>\n",
       "      <td>0.115391</td>\n",
       "      <td>-0.062344</td>\n",
       "      <td>-0.246611</td>\n",
       "      <td>-0.120752</td>\n",
       "      <td>1.000000</td>\n",
       "      <td>-0.033956</td>\n",
       "      <td>0.022964</td>\n",
       "      <td>-0.162724</td>\n",
       "      <td>-0.003252</td>\n",
       "      <td>-0.183748</td>\n",
       "      <td>0.321476</td>\n",
       "    </tr>\n",
       "    <tr>\n",
       "      <th>fins</th>\n",
       "      <td>-0.280313</td>\n",
       "      <td>-0.223541</td>\n",
       "      <td>0.164796</td>\n",
       "      <td>-0.156328</td>\n",
       "      <td>-0.251157</td>\n",
       "      <td>0.604492</td>\n",
       "      <td>0.190302</td>\n",
       "      <td>0.364292</td>\n",
       "      <td>0.209499</td>\n",
       "      <td>-0.617219</td>\n",
       "      <td>-0.033956</td>\n",
       "      <td>1.000000</td>\n",
       "      <td>-0.605652</td>\n",
       "      <td>0.204349</td>\n",
       "      <td>-0.093887</td>\n",
       "      <td>0.031705</td>\n",
       "      <td>0.099430</td>\n",
       "    </tr>\n",
       "    <tr>\n",
       "      <th>legs</th>\n",
       "      <td>0.394009</td>\n",
       "      <td>-0.206686</td>\n",
       "      <td>-0.224918</td>\n",
       "      <td>0.214196</td>\n",
       "      <td>0.043712</td>\n",
       "      <td>-0.360638</td>\n",
       "      <td>-0.099723</td>\n",
       "      <td>-0.193476</td>\n",
       "      <td>-0.432856</td>\n",
       "      <td>0.369868</td>\n",
       "      <td>0.022964</td>\n",
       "      <td>-0.605652</td>\n",
       "      <td>1.000000</td>\n",
       "      <td>-0.348295</td>\n",
       "      <td>0.073931</td>\n",
       "      <td>0.068791</td>\n",
       "      <td>0.131693</td>\n",
       "    </tr>\n",
       "    <tr>\n",
       "      <th>tail</th>\n",
       "      <td>0.048973</td>\n",
       "      <td>0.292569</td>\n",
       "      <td>-0.221090</td>\n",
       "      <td>0.210026</td>\n",
       "      <td>0.009482</td>\n",
       "      <td>-0.034642</td>\n",
       "      <td>0.018947</td>\n",
       "      <td>0.310368</td>\n",
       "      <td>0.731762</td>\n",
       "      <td>0.088952</td>\n",
       "      <td>-0.162724</td>\n",
       "      <td>0.204349</td>\n",
       "      <td>-0.348295</td>\n",
       "      <td>1.000000</td>\n",
       "      <td>0.023434</td>\n",
       "      <td>0.243277</td>\n",
       "      <td>-0.631830</td>\n",
       "    </tr>\n",
       "    <tr>\n",
       "      <th>domestic</th>\n",
       "      <td>0.207208</td>\n",
       "      <td>0.031586</td>\n",
       "      <td>-0.155610</td>\n",
       "      <td>0.163928</td>\n",
       "      <td>0.063274</td>\n",
       "      <td>-0.224308</td>\n",
       "      <td>-0.309794</td>\n",
       "      <td>0.069430</td>\n",
       "      <td>0.101733</td>\n",
       "      <td>0.124068</td>\n",
       "      <td>-0.003252</td>\n",
       "      <td>-0.093887</td>\n",
       "      <td>0.073931</td>\n",
       "      <td>0.023434</td>\n",
       "      <td>1.000000</td>\n",
       "      <td>0.020073</td>\n",
       "      <td>-0.181043</td>\n",
       "    </tr>\n",
       "    <tr>\n",
       "      <th>catsize</th>\n",
       "      <td>0.455020</td>\n",
       "      <td>-0.135934</td>\n",
       "      <td>-0.514650</td>\n",
       "      <td>0.574906</td>\n",
       "      <td>-0.349768</td>\n",
       "      <td>-0.111866</td>\n",
       "      <td>0.144790</td>\n",
       "      <td>0.344010</td>\n",
       "      <td>0.356976</td>\n",
       "      <td>0.204125</td>\n",
       "      <td>-0.183748</td>\n",
       "      <td>0.031705</td>\n",
       "      <td>0.068791</td>\n",
       "      <td>0.243277</td>\n",
       "      <td>0.020073</td>\n",
       "      <td>1.000000</td>\n",
       "      <td>-0.521030</td>\n",
       "    </tr>\n",
       "    <tr>\n",
       "      <th>type</th>\n",
       "      <td>-0.562384</td>\n",
       "      <td>-0.197520</td>\n",
       "      <td>0.661825</td>\n",
       "      <td>-0.723683</td>\n",
       "      <td>0.022677</td>\n",
       "      <td>0.326639</td>\n",
       "      <td>0.061179</td>\n",
       "      <td>-0.471527</td>\n",
       "      <td>-0.828845</td>\n",
       "      <td>-0.519308</td>\n",
       "      <td>0.321476</td>\n",
       "      <td>0.099430</td>\n",
       "      <td>0.131693</td>\n",
       "      <td>-0.631830</td>\n",
       "      <td>-0.181043</td>\n",
       "      <td>-0.521030</td>\n",
       "      <td>1.000000</td>\n",
       "    </tr>\n",
       "  </tbody>\n",
       "</table>\n",
       "</div>"
      ],
      "text/plain": [
       "              hair  feathers      eggs      milk  airborne   aquatic  \\\n",
       "hair      1.000000 -0.427851 -0.817382  0.878503 -0.198431 -0.473554   \n",
       "feathers -0.427851  1.000000  0.419248 -0.410761  0.656553 -0.058552   \n",
       "eggs     -0.817382  0.419248  1.000000 -0.938848  0.376646  0.376244   \n",
       "milk      0.878503 -0.410761 -0.938848  1.000000 -0.366765 -0.362613   \n",
       "airborne -0.198431  0.656553  0.376646 -0.366765  1.000000 -0.172638   \n",
       "aquatic  -0.473554 -0.058552  0.376244 -0.362613 -0.172638  1.000000   \n",
       "predator -0.154769 -0.104430  0.011605 -0.029721 -0.295181  0.375978   \n",
       "toothed   0.492531 -0.613631 -0.642150  0.628168 -0.594311  0.053150   \n",
       "backbone  0.191681  0.231403 -0.340420  0.384958 -0.104718  0.022463   \n",
       "breathes  0.441149  0.254588 -0.382777  0.423527  0.286039 -0.637506   \n",
       "venomous -0.104245 -0.145739  0.098689 -0.242449  0.008528  0.087915   \n",
       "fins     -0.280313 -0.223541  0.164796 -0.156328 -0.251157  0.604492   \n",
       "legs      0.394009 -0.206686 -0.224918  0.214196  0.043712 -0.360638   \n",
       "tail      0.048973  0.292569 -0.221090  0.210026  0.009482 -0.034642   \n",
       "domestic  0.207208  0.031586 -0.155610  0.163928  0.063274 -0.224308   \n",
       "catsize   0.455020 -0.135934 -0.514650  0.574906 -0.349768 -0.111866   \n",
       "type     -0.562384 -0.197520  0.661825 -0.723683  0.022677  0.326639   \n",
       "\n",
       "          predator   toothed  backbone  breathes  venomous      fins  \\\n",
       "hair     -0.154769  0.492531  0.191681  0.441149 -0.104245 -0.280313   \n",
       "feathers -0.104430 -0.613631  0.231403  0.254588 -0.145739 -0.223541   \n",
       "eggs      0.011605 -0.642150 -0.340420 -0.382777  0.098689  0.164796   \n",
       "milk     -0.029721  0.628168  0.384958  0.423527 -0.242449 -0.156328   \n",
       "airborne -0.295181 -0.594311 -0.104718  0.286039  0.008528 -0.251157   \n",
       "aquatic   0.375978  0.053150  0.022463 -0.637506  0.087915  0.604492   \n",
       "predator  1.000000  0.129452  0.051022 -0.262931  0.115391  0.190302   \n",
       "toothed   0.129452  1.000000  0.575085 -0.065690 -0.062344  0.364292   \n",
       "backbone  0.051022  0.575085  1.000000  0.207666 -0.246611  0.209499   \n",
       "breathes -0.262931 -0.065690  0.207666  1.000000 -0.120752 -0.617219   \n",
       "venomous  0.115391 -0.062344 -0.246611 -0.120752  1.000000 -0.033956   \n",
       "fins      0.190302  0.364292  0.209499 -0.617219 -0.033956  1.000000   \n",
       "legs     -0.099723 -0.193476 -0.432856  0.369868  0.022964 -0.605652   \n",
       "tail      0.018947  0.310368  0.731762  0.088952 -0.162724  0.204349   \n",
       "domestic -0.309794  0.069430  0.101733  0.124068 -0.003252 -0.093887   \n",
       "catsize   0.144790  0.344010  0.356976  0.204125 -0.183748  0.031705   \n",
       "type      0.061179 -0.471527 -0.828845 -0.519308  0.321476  0.099430   \n",
       "\n",
       "              legs      tail  domestic   catsize      type  \n",
       "hair      0.394009  0.048973  0.207208  0.455020 -0.562384  \n",
       "feathers -0.206686  0.292569  0.031586 -0.135934 -0.197520  \n",
       "eggs     -0.224918 -0.221090 -0.155610 -0.514650  0.661825  \n",
       "milk      0.214196  0.210026  0.163928  0.574906 -0.723683  \n",
       "airborne  0.043712  0.009482  0.063274 -0.349768  0.022677  \n",
       "aquatic  -0.360638 -0.034642 -0.224308 -0.111866  0.326639  \n",
       "predator -0.099723  0.018947 -0.309794  0.144790  0.061179  \n",
       "toothed  -0.193476  0.310368  0.069430  0.344010 -0.471527  \n",
       "backbone -0.432856  0.731762  0.101733  0.356976 -0.828845  \n",
       "breathes  0.369868  0.088952  0.124068  0.204125 -0.519308  \n",
       "venomous  0.022964 -0.162724 -0.003252 -0.183748  0.321476  \n",
       "fins     -0.605652  0.204349 -0.093887  0.031705  0.099430  \n",
       "legs      1.000000 -0.348295  0.073931  0.068791  0.131693  \n",
       "tail     -0.348295  1.000000  0.023434  0.243277 -0.631830  \n",
       "domestic  0.073931  0.023434  1.000000  0.020073 -0.181043  \n",
       "catsize   0.068791  0.243277  0.020073  1.000000 -0.521030  \n",
       "type      0.131693 -0.631830 -0.181043 -0.521030  1.000000  "
      ]
     },
     "execution_count": 9,
     "metadata": {},
     "output_type": "execute_result"
    }
   ],
   "source": [
    "#correlation matrix\n",
    "df1.corr()"
   ]
  },
  {
   "cell_type": "code",
   "execution_count": 10,
   "id": "66e0eaeb",
   "metadata": {},
   "outputs": [
    {
     "data": {
      "text/plain": [
       "<Axes: >"
      ]
     },
     "execution_count": 10,
     "metadata": {},
     "output_type": "execute_result"
    },
    {
     "data": {
      "image/png": "[encoded data removed]",
      "text/plain": [
       "<Figure size 640x480 with 2 Axes>"
      ]
     },
     "metadata": {},
     "output_type": "display_data"
    }
   ],
   "source": [
    "#heatmap for corrletaion\n",
    "import seaborn as sns\n",
    "sns.heatmap(df1.corr())"
   ]
  },
  {
   "cell_type": "code",
   "execution_count": 11,
   "id": "2b7e472d",
   "metadata": {
    "scrolled": false
   },
   "outputs": [
    {
     "data": {
      "text/plain": [
       "<Axes: >"
      ]
     },
     "execution_count": 11,
     "metadata": {},
     "output_type": "execute_result"
    },
    {
     "data": {
      "image/png": "[encoded data removed]",
      "text/plain": [
       "<Figure size 1500x1500 with 1 Axes>"
      ]
     },
     "metadata": {},
     "output_type": "display_data"
    }
   ],
   "source": [
    "#visualization using boxplot\n",
    "df1.boxplot(figsize = (15,15))"
   ]
  },
  {
   "cell_type": "markdown",
   "id": "001dfb5c",
   "metadata": {},
   "source": [
    "# Preprocessing "
   ]
  },
  {
   "cell_type": "code",
   "execution_count": 12,
   "id": "77c3a9da",
   "metadata": {},
   "outputs": [
    {
     "data": {
      "text/plain": [
       "animal name    0\n",
       "hair           0\n",
       "feathers       0\n",
       "eggs           0\n",
       "milk           0\n",
       "airborne       0\n",
       "aquatic        0\n",
       "predator       0\n",
       "toothed        0\n",
       "backbone       0\n",
       "breathes       0\n",
       "venomous       0\n",
       "fins           0\n",
       "legs           0\n",
       "tail           0\n",
       "domestic       0\n",
       "catsize        0\n",
       "type           0\n",
       "dtype: int64"
      ]
     },
     "execution_count": 12,
     "metadata": {},
     "output_type": "execute_result"
    }
   ],
   "source": [
    "#checking missing values in dataset\n",
    "df.isnull().sum()"
   ]
  },
  {
   "cell_type": "code",
   "execution_count": 13,
   "id": "9dc286f2",
   "metadata": {},
   "outputs": [],
   "source": [
    "# Removing outliers\n",
    "from scipy import stats\n",
    "df1 = df1[(np.abs(stats.zscore(df.select_dtypes(include=[np.number]))) < 3).all(axis=1)]"
   ]
  },
  {
   "cell_type": "code",
   "execution_count": 14,
   "id": "b3c6c4ca",
   "metadata": {},
   "outputs": [
    {
     "data": {
      "text/plain": [
       "(93, 17)"
      ]
     },
     "execution_count": 14,
     "metadata": {},
     "output_type": "execute_result"
    }
   ],
   "source": [
    "#shape of data after rempving outliers\n",
    "df1.shape"
   ]
  },
  {
   "cell_type": "markdown",
   "id": "de602cdb",
   "metadata": {},
   "source": [
    "# Data Partition "
   ]
  },
  {
   "cell_type": "code",
   "execution_count": 15,
   "id": "af98925c",
   "metadata": {},
   "outputs": [],
   "source": [
    "#importing libaries for splitting and evaluation\n",
    "from sklearn.model_selection import train_test_split, cross_val_score"
   ]
  },
  {
   "cell_type": "code",
   "execution_count": 16,
   "id": "bf0a8ec8",
   "metadata": {},
   "outputs": [],
   "source": [
    "#splitting data into features and target variable\n",
    "x = df1.drop(['type'], axis = 1)\n",
    "y = df1['type']"
   ]
  },
  {
   "cell_type": "code",
   "execution_count": 17,
   "id": "3ceec016",
   "metadata": {},
   "outputs": [],
   "source": [
    "#splitting data into training and testing sets\n",
    "x_train, x_test, y_train, y_test = train_test_split(x, y, test_size = 0.2, random_state = 42)"
   ]
  },
  {
   "cell_type": "code",
   "execution_count": 18,
   "id": "15835346",
   "metadata": {},
   "outputs": [
    {
     "data": {
      "text/plain": [
       "((74, 16), (19, 16), (74,), (19,))"
      ]
     },
     "execution_count": 18,
     "metadata": {},
     "output_type": "execute_result"
    }
   ],
   "source": [
    "#shape of training and testing set\n",
    "x_train.shape, x_test.shape, y_train.shape, y_test.shape"
   ]
  },
  {
   "cell_type": "markdown",
   "id": "cc70ba82",
   "metadata": {},
   "source": [
    "# Model fitting"
   ]
  },
  {
   "cell_type": "code",
   "execution_count": 19,
   "id": "2773b036",
   "metadata": {},
   "outputs": [
    {
     "data": {
      "text/html": [
       "<style>#sk-container-id-1 {color: black;background-color: white;}#sk-container-id-1 pre{padding: 0;}#sk-container-id-1 div.sk-toggleable {background-color: white;}#sk-container-id-1 label.sk-toggleable__label {cursor: pointer;display: block;width: 100%;margin-bottom: 0;padding: 0.3em;box-sizing: border-box;text-align: center;}#sk-container-id-1 label.sk-toggleable__label-arrow:before {content: \"▸\";float: left;margin-right: 0.25em;color: #696969;}#sk-container-id-1 label.sk-toggleable__label-arrow:hover:before {color: black;}#sk-container-id-1 div.sk-estimator:hover label.sk-toggleable__label-arrow:before {color: black;}#sk-container-id-1 div.sk-toggleable__content {max-height: 0;max-width: 0;overflow: hidden;text-align: left;background-color: #f0f8ff;}#sk-container-id-1 div.sk-toggleable__content pre {margin: 0.2em;color: black;border-radius: 0.25em;background-color: #f0f8ff;}#sk-container-id-1 input.sk-toggleable__control:checked~div.sk-toggleable__content {max-height: 200px;max-width: 100%;overflow: auto;}#sk-container-id-1 input.sk-toggleable__control:checked~label.sk-toggleable__label-arrow:before {content: \"▾\";}#sk-container-id-1 div.sk-estimator input.sk-toggleable__control:checked~label.sk-toggleable__label {background-color: #d4ebff;}#sk-container-id-1 div.sk-label input.sk-toggleable__control:checked~label.sk-toggleable__label {background-color: #d4ebff;}#sk-container-id-1 input.sk-hidden--visually {border: 0;clip: rect(1px 1px 1px 1px);clip: rect(1px, 1px, 1px, 1px);height: 1px;margin: -1px;overflow: hidden;padding: 0;position: absolute;width: 1px;}#sk-container-id-1 div.sk-estimator {font-family: monospace;background-color: #f0f8ff;border: 1px dotted black;border-radius: 0.25em;box-sizing: border-box;margin-bottom: 0.5em;}#sk-container-id-1 div.sk-estimator:hover {background-color: #d4ebff;}#sk-container-id-1 div.sk-parallel-item::after {content: \"\";width: 100%;border-bottom: 1px solid gray;flex-grow: 1;}#sk-container-id-1 div.sk-label:hover label.sk-toggleable__label {background-color: #d4ebff;}#sk-container-id-1 div.sk-serial::before {content: \"\";position: absolute;border-left: 1px solid gray;box-sizing: border-box;top: 0;bottom: 0;left: 50%;z-index: 0;}#sk-container-id-1 div.sk-serial {display: flex;flex-direction: column;align-items: center;background-color: white;padding-right: 0.2em;padding-left: 0.2em;position: relative;}#sk-container-id-1 div.sk-item {position: relative;z-index: 1;}#sk-container-id-1 div.sk-parallel {display: flex;align-items: stretch;justify-content: center;background-color: white;position: relative;}#sk-container-id-1 div.sk-item::before, #sk-container-id-1 div.sk-parallel-item::before {content: \"\";position: absolute;border-left: 1px solid gray;box-sizing: border-box;top: 0;bottom: 0;left: 50%;z-index: -1;}#sk-container-id-1 div.sk-parallel-item {display: flex;flex-direction: column;z-index: 1;position: relative;background-color: white;}#sk-container-id-1 div.sk-parallel-item:first-child::after {align-self: flex-end;width: 50%;}#sk-container-id-1 div.sk-parallel-item:last-child::after {align-self: flex-start;width: 50%;}#sk-container-id-1 div.sk-parallel-item:only-child::after {width: 0;}#sk-container-id-1 div.sk-dashed-wrapped {border: 1px dashed gray;margin: 0 0.4em 0.5em 0.4em;box-sizing: border-box;padding-bottom: 0.4em;background-color: white;}#sk-container-id-1 div.sk-label label {font-family: monospace;font-weight: bold;display: inline-block;line-height: 1.2em;}#sk-container-id-1 div.sk-label-container {text-align: center;}#sk-container-id-1 div.sk-container {/* jupyter's `normalize.less` sets `[hidden] { display: none; }` but bootstrap.min.css set `[hidden] { display: none !important; }` so we also need the `!important` here to be able to override the default hidden behavior on the sphinx rendered scikit-learn.org. See: https://github.com/scikit-learn/scikit-learn/issues/21755 */display: inline-block !important;position: relative;}#sk-container-id-1 div.sk-text-repr-fallback {display: none;}</style><div id=\"sk-container-id-1\" class=\"sk-top-container\"><div class=\"sk-text-repr-fallback\"><pre>KNeighborsClassifier()</pre><b>In a Jupyter environment, please rerun this cell to show the HTML representation or trust the notebook. <br />On GitHub, the HTML representation is unable to render, please try loading this page with nbviewer.org.</b></div><div class=\"sk-container\" hidden><div class=\"sk-item\"><div class=\"sk-estimator sk-toggleable\"><input class=\"sk-toggleable__control sk-hidden--visually\" id=\"sk-estimator-id-1\" type=\"checkbox\" checked><label for=\"sk-estimator-id-1\" class=\"sk-toggleable__label sk-toggleable__label-arrow\">KNeighborsClassifier</label><div class=\"sk-toggleable__content\"><pre>KNeighborsClassifier()</pre></div></div></div></div></div>"
      ],
      "text/plain": [
       "KNeighborsClassifier()"
      ]
     },
     "execution_count": 19,
     "metadata": {},
     "output_type": "execute_result"
    }
   ],
   "source": [
    "#implementing K-Nearest Neighbours algorithm\n",
    "model = KNeighborsClassifier(n_neighbors=5)\n",
    "model.fit(x_train, y_train)"
   ]
  },
  {
   "cell_type": "code",
   "execution_count": 20,
   "id": "90a02080",
   "metadata": {},
   "outputs": [],
   "source": [
    "#predicting on testing dataset\n",
    "y_pred = model.predict(x_test)"
   ]
  },
  {
   "cell_type": "code",
   "execution_count": 21,
   "id": "19581f11",
   "metadata": {},
   "outputs": [
    {
     "name": "stdout",
     "output_type": "stream",
     "text": [
      "Accuracy: 0.8947368421052632\n",
      "Precision: 0.8118022328548644\n",
      "Recall: 0.8947368421052632\n",
      "F1 Score: 0.8486215538847117\n",
      "              precision    recall  f1-score   support\n",
      "\n",
      "           1       0.91      1.00      0.95        10\n",
      "           2       1.00      1.00      1.00         3\n",
      "           3       0.00      0.00      0.00         1\n",
      "           4       1.00      1.00      1.00         2\n",
      "           6       0.67      1.00      0.80         2\n",
      "           7       0.00      0.00      0.00         1\n",
      "\n",
      "    accuracy                           0.89        19\n",
      "   macro avg       0.60      0.67      0.63        19\n",
      "weighted avg       0.81      0.89      0.85        19\n",
      "\n"
     ]
    },
    {
     "name": "stderr",
     "output_type": "stream",
     "text": [
      "C:\\ProgramData\\anaconda3\\Lib\\site-packages\\sklearn\\metrics\\_classification.py:1344: UndefinedMetricWarning: Precision is ill-defined and being set to 0.0 in labels with no predicted samples. Use `zero_division` parameter to control this behavior.\n",
      "  _warn_prf(average, modifier, msg_start, len(result))\n",
      "C:\\ProgramData\\anaconda3\\Lib\\site-packages\\sklearn\\metrics\\_classification.py:1344: UndefinedMetricWarning: Precision and F-score are ill-defined and being set to 0.0 in labels with no predicted samples. Use `zero_division` parameter to control this behavior.\n",
      "  _warn_prf(average, modifier, msg_start, len(result))\n",
      "C:\\ProgramData\\anaconda3\\Lib\\site-packages\\sklearn\\metrics\\_classification.py:1344: UndefinedMetricWarning: Precision and F-score are ill-defined and being set to 0.0 in labels with no predicted samples. Use `zero_division` parameter to control this behavior.\n",
      "  _warn_prf(average, modifier, msg_start, len(result))\n",
      "C:\\ProgramData\\anaconda3\\Lib\\site-packages\\sklearn\\metrics\\_classification.py:1344: UndefinedMetricWarning: Precision and F-score are ill-defined and being set to 0.0 in labels with no predicted samples. Use `zero_division` parameter to control this behavior.\n",
      "  _warn_prf(average, modifier, msg_start, len(result))\n"
     ]
    }
   ],
   "source": [
    "from sklearn.metrics import accuracy_score, precision_score, recall_score, f1_score, classification_report\n",
    "\n",
    "# Evaluating model performance\n",
    "accuracy = accuracy_score(y_test, y_pred)\n",
    "precision = precision_score(y_test, y_pred, average='weighted')\n",
    "recall = recall_score(y_test, y_pred, average='weighted')\n",
    "f1 = f1_score(y_test, y_pred, average='weighted')\n",
    "\n",
    "print(f\"Accuracy: {accuracy}\")\n",
    "print(f\"Precision: {precision}\")\n",
    "print(f\"Recall: {recall}\")\n",
    "print(f\"F1 Score: {f1}\")\n",
    "# Detailed classification report\n",
    "print(classification_report(y_test, y_pred))\n",
    "\n"
   ]
  },
  {
   "cell_type": "markdown",
   "id": "486f93d5",
   "metadata": {},
   "source": [
    "# Hyper parameter Tunning "
   ]
  },
  {
   "cell_type": "code",
   "execution_count": 22,
   "id": "2fce9659",
   "metadata": {},
   "outputs": [],
   "source": [
    "#using k-fold technique\n",
    "num_folds = 10\n",
    "KFold = KFold(n_splits=10)\n"
   ]
  },
  {
   "cell_type": "code",
   "execution_count": 23,
   "id": "a8bb7323",
   "metadata": {},
   "outputs": [],
   "source": [
    "#fitting model on entire dataset using kfold\n",
    "model1= KNeighborsClassifier(n_neighbors=3)\n",
    "results = cross_val_score(model, x, y, cv=KFold)"
   ]
  },
  {
   "cell_type": "code",
   "execution_count": 24,
   "id": "12c590b6",
   "metadata": {},
   "outputs": [
    {
     "name": "stdout",
     "output_type": "stream",
     "text": [
      "0.8488888888888889\n"
     ]
    }
   ],
   "source": [
    "#model accuracy\n",
    "print(results.mean())"
   ]
  },
  {
   "cell_type": "code",
   "execution_count": 25,
   "id": "e36bb1c1",
   "metadata": {},
   "outputs": [],
   "source": [
    "#Model performance is increased"
   ]
  },
  {
   "cell_type": "code",
   "execution_count": 26,
   "id": "34a02256",
   "metadata": {},
   "outputs": [
    {
     "name": "stderr",
     "output_type": "stream",
     "text": [
      "C:\\ProgramData\\anaconda3\\Lib\\site-packages\\sklearn\\model_selection\\_split.py:700: UserWarning: The least populated class in y has only 2 members, which is less than n_splits=5.\n",
      "  warnings.warn(\n"
     ]
    },
    {
     "name": "stdout",
     "output_type": "stream",
     "text": [
      "Fitting 5 folds for each of 16 candidates, totalling 80 fits\n"
     ]
    },
    {
     "data": {
      "text/html": [
       "<style>#sk-container-id-2 {color: black;background-color: white;}#sk-container-id-2 pre{padding: 0;}#sk-container-id-2 div.sk-toggleable {background-color: white;}#sk-container-id-2 label.sk-toggleable__label {cursor: pointer;display: block;width: 100%;margin-bottom: 0;padding: 0.3em;box-sizing: border-box;text-align: center;}#sk-container-id-2 label.sk-toggleable__label-arrow:before {content: \"▸\";float: left;margin-right: 0.25em;color: #696969;}#sk-container-id-2 label.sk-toggleable__label-arrow:hover:before {color: black;}#sk-container-id-2 div.sk-estimator:hover label.sk-toggleable__label-arrow:before {color: black;}#sk-container-id-2 div.sk-toggleable__content {max-height: 0;max-width: 0;overflow: hidden;text-align: left;background-color: #f0f8ff;}#sk-container-id-2 div.sk-toggleable__content pre {margin: 0.2em;color: black;border-radius: 0.25em;background-color: #f0f8ff;}#sk-container-id-2 input.sk-toggleable__control:checked~div.sk-toggleable__content {max-height: 200px;max-width: 100%;overflow: auto;}#sk-container-id-2 input.sk-toggleable__control:checked~label.sk-toggleable__label-arrow:before {content: \"▾\";}#sk-container-id-2 div.sk-estimator input.sk-toggleable__control:checked~label.sk-toggleable__label {background-color: #d4ebff;}#sk-container-id-2 div.sk-label input.sk-toggleable__control:checked~label.sk-toggleable__label {background-color: #d4ebff;}#sk-container-id-2 input.sk-hidden--visually {border: 0;clip: rect(1px 1px 1px 1px);clip: rect(1px, 1px, 1px, 1px);height: 1px;margin: -1px;overflow: hidden;padding: 0;position: absolute;width: 1px;}#sk-container-id-2 div.sk-estimator {font-family: monospace;background-color: #f0f8ff;border: 1px dotted black;border-radius: 0.25em;box-sizing: border-box;margin-bottom: 0.5em;}#sk-container-id-2 div.sk-estimator:hover {background-color: #d4ebff;}#sk-container-id-2 div.sk-parallel-item::after {content: \"\";width: 100%;border-bottom: 1px solid gray;flex-grow: 1;}#sk-container-id-2 div.sk-label:hover label.sk-toggleable__label {background-color: #d4ebff;}#sk-container-id-2 div.sk-serial::before {content: \"\";position: absolute;border-left: 1px solid gray;box-sizing: border-box;top: 0;bottom: 0;left: 50%;z-index: 0;}#sk-container-id-2 div.sk-serial {display: flex;flex-direction: column;align-items: center;background-color: white;padding-right: 0.2em;padding-left: 0.2em;position: relative;}#sk-container-id-2 div.sk-item {position: relative;z-index: 1;}#sk-container-id-2 div.sk-parallel {display: flex;align-items: stretch;justify-content: center;background-color: white;position: relative;}#sk-container-id-2 div.sk-item::before, #sk-container-id-2 div.sk-parallel-item::before {content: \"\";position: absolute;border-left: 1px solid gray;box-sizing: border-box;top: 0;bottom: 0;left: 50%;z-index: -1;}#sk-container-id-2 div.sk-parallel-item {display: flex;flex-direction: column;z-index: 1;position: relative;background-color: white;}#sk-container-id-2 div.sk-parallel-item:first-child::after {align-self: flex-end;width: 50%;}#sk-container-id-2 div.sk-parallel-item:last-child::after {align-self: flex-start;width: 50%;}#sk-container-id-2 div.sk-parallel-item:only-child::after {width: 0;}#sk-container-id-2 div.sk-dashed-wrapped {border: 1px dashed gray;margin: 0 0.4em 0.5em 0.4em;box-sizing: border-box;padding-bottom: 0.4em;background-color: white;}#sk-container-id-2 div.sk-label label {font-family: monospace;font-weight: bold;display: inline-block;line-height: 1.2em;}#sk-container-id-2 div.sk-label-container {text-align: center;}#sk-container-id-2 div.sk-container {/* jupyter's `normalize.less` sets `[hidden] { display: none; }` but bootstrap.min.css set `[hidden] { display: none !important; }` so we also need the `!important` here to be able to override the default hidden behavior on the sphinx rendered scikit-learn.org. See: https://github.com/scikit-learn/scikit-learn/issues/21755 */display: inline-block !important;position: relative;}#sk-container-id-2 div.sk-text-repr-fallback {display: none;}</style><div id=\"sk-container-id-2\" class=\"sk-top-container\"><div class=\"sk-text-repr-fallback\"><pre>GridSearchCV(cv=5, estimator=KNeighborsClassifier(), n_jobs=-1,\n",
       "             param_grid={&#x27;metric&#x27;: [&#x27;euclidean&#x27;, &#x27;manhattan&#x27;],\n",
       "                         &#x27;n_neighbors&#x27;: [3, 5, 7, 9],\n",
       "                         &#x27;weights&#x27;: [&#x27;uniform&#x27;, &#x27;distance&#x27;]},\n",
       "             scoring=&#x27;accuracy&#x27;, verbose=1)</pre><b>In a Jupyter environment, please rerun this cell to show the HTML representation or trust the notebook. <br />On GitHub, the HTML representation is unable to render, please try loading this page with nbviewer.org.</b></div><div class=\"sk-container\" hidden><div class=\"sk-item sk-dashed-wrapped\"><div class=\"sk-label-container\"><div class=\"sk-label sk-toggleable\"><input class=\"sk-toggleable__control sk-hidden--visually\" id=\"sk-estimator-id-2\" type=\"checkbox\" ><label for=\"sk-estimator-id-2\" class=\"sk-toggleable__label sk-toggleable__label-arrow\">GridSearchCV</label><div class=\"sk-toggleable__content\"><pre>GridSearchCV(cv=5, estimator=KNeighborsClassifier(), n_jobs=-1,\n",
       "             param_grid={&#x27;metric&#x27;: [&#x27;euclidean&#x27;, &#x27;manhattan&#x27;],\n",
       "                         &#x27;n_neighbors&#x27;: [3, 5, 7, 9],\n",
       "                         &#x27;weights&#x27;: [&#x27;uniform&#x27;, &#x27;distance&#x27;]},\n",
       "             scoring=&#x27;accuracy&#x27;, verbose=1)</pre></div></div></div><div class=\"sk-parallel\"><div class=\"sk-parallel-item\"><div class=\"sk-item\"><div class=\"sk-label-container\"><div class=\"sk-label sk-toggleable\"><input class=\"sk-toggleable__control sk-hidden--visually\" id=\"sk-estimator-id-3\" type=\"checkbox\" ><label for=\"sk-estimator-id-3\" class=\"sk-toggleable__label sk-toggleable__label-arrow\">estimator: KNeighborsClassifier</label><div class=\"sk-toggleable__content\"><pre>KNeighborsClassifier()</pre></div></div></div><div class=\"sk-serial\"><div class=\"sk-item\"><div class=\"sk-estimator sk-toggleable\"><input class=\"sk-toggleable__control sk-hidden--visually\" id=\"sk-estimator-id-4\" type=\"checkbox\" ><label for=\"sk-estimator-id-4\" class=\"sk-toggleable__label sk-toggleable__label-arrow\">KNeighborsClassifier</label><div class=\"sk-toggleable__content\"><pre>KNeighborsClassifier()</pre></div></div></div></div></div></div></div></div></div></div>"
      ],
      "text/plain": [
       "GridSearchCV(cv=5, estimator=KNeighborsClassifier(), n_jobs=-1,\n",
       "             param_grid={'metric': ['euclidean', 'manhattan'],\n",
       "                         'n_neighbors': [3, 5, 7, 9],\n",
       "                         'weights': ['uniform', 'distance']},\n",
       "             scoring='accuracy', verbose=1)"
      ]
     },
     "execution_count": 26,
     "metadata": {},
     "output_type": "execute_result"
    }
   ],
   "source": [
    "#using GridSearchCV for parameter tuning and optimization\n",
    "from sklearn.model_selection import GridSearchCV\n",
    "KNN= KNeighborsClassifier()\n",
    "param_grid = {\n",
    "    'n_neighbors': [3, 5, 7, 9],\n",
    "    'weights': ['uniform', 'distance'],\n",
    "    'metric':['euclidean','manhattan']}\n",
    "grid_search =GridSearchCV(estimator=KNN,param_grid=param_grid,cv=5,scoring='accuracy',verbose=1,n_jobs=-1)\n",
    "grid_search.fit(x_train, y_train)"
   ]
  },
  {
   "cell_type": "code",
   "execution_count": 27,
   "id": "3aad0ce5",
   "metadata": {},
   "outputs": [
    {
     "name": "stdout",
     "output_type": "stream",
     "text": [
      "Best parameters found: {'metric': 'manhattan', 'n_neighbors': 3, 'weights': 'distance'}\n",
      "Best cross-validation score: 0.9733333333333334\n"
     ]
    }
   ],
   "source": [
    "#best parameters and cross validation score\n",
    "print(\"Best parameters found:\", grid_search.best_params_)\n",
    "print(\"Best cross-validation score:\", grid_search.best_score_)"
   ]
  },
  {
   "cell_type": "code",
   "execution_count": 28,
   "id": "14270e2d",
   "metadata": {},
   "outputs": [
    {
     "data": {
      "text/html": [
       "<style>#sk-container-id-3 {color: black;background-color: white;}#sk-container-id-3 pre{padding: 0;}#sk-container-id-3 div.sk-toggleable {background-color: white;}#sk-container-id-3 label.sk-toggleable__label {cursor: pointer;display: block;width: 100%;margin-bottom: 0;padding: 0.3em;box-sizing: border-box;text-align: center;}#sk-container-id-3 label.sk-toggleable__label-arrow:before {content: \"▸\";float: left;margin-right: 0.25em;color: #696969;}#sk-container-id-3 label.sk-toggleable__label-arrow:hover:before {color: black;}#sk-container-id-3 div.sk-estimator:hover label.sk-toggleable__label-arrow:before {color: black;}#sk-container-id-3 div.sk-toggleable__content {max-height: 0;max-width: 0;overflow: hidden;text-align: left;background-color: #f0f8ff;}#sk-container-id-3 div.sk-toggleable__content pre {margin: 0.2em;color: black;border-radius: 0.25em;background-color: #f0f8ff;}#sk-container-id-3 input.sk-toggleable__control:checked~div.sk-toggleable__content {max-height: 200px;max-width: 100%;overflow: auto;}#sk-container-id-3 input.sk-toggleable__control:checked~label.sk-toggleable__label-arrow:before {content: \"▾\";}#sk-container-id-3 div.sk-estimator input.sk-toggleable__control:checked~label.sk-toggleable__label {background-color: #d4ebff;}#sk-container-id-3 div.sk-label input.sk-toggleable__control:checked~label.sk-toggleable__label {background-color: #d4ebff;}#sk-container-id-3 input.sk-hidden--visually {border: 0;clip: rect(1px 1px 1px 1px);clip: rect(1px, 1px, 1px, 1px);height: 1px;margin: -1px;overflow: hidden;padding: 0;position: absolute;width: 1px;}#sk-container-id-3 div.sk-estimator {font-family: monospace;background-color: #f0f8ff;border: 1px dotted black;border-radius: 0.25em;box-sizing: border-box;margin-bottom: 0.5em;}#sk-container-id-3 div.sk-estimator:hover {background-color: #d4ebff;}#sk-container-id-3 div.sk-parallel-item::after {content: \"\";width: 100%;border-bottom: 1px solid gray;flex-grow: 1;}#sk-container-id-3 div.sk-label:hover label.sk-toggleable__label {background-color: #d4ebff;}#sk-container-id-3 div.sk-serial::before {content: \"\";position: absolute;border-left: 1px solid gray;box-sizing: border-box;top: 0;bottom: 0;left: 50%;z-index: 0;}#sk-container-id-3 div.sk-serial {display: flex;flex-direction: column;align-items: center;background-color: white;padding-right: 0.2em;padding-left: 0.2em;position: relative;}#sk-container-id-3 div.sk-item {position: relative;z-index: 1;}#sk-container-id-3 div.sk-parallel {display: flex;align-items: stretch;justify-content: center;background-color: white;position: relative;}#sk-container-id-3 div.sk-item::before, #sk-container-id-3 div.sk-parallel-item::before {content: \"\";position: absolute;border-left: 1px solid gray;box-sizing: border-box;top: 0;bottom: 0;left: 50%;z-index: -1;}#sk-container-id-3 div.sk-parallel-item {display: flex;flex-direction: column;z-index: 1;position: relative;background-color: white;}#sk-container-id-3 div.sk-parallel-item:first-child::after {align-self: flex-end;width: 50%;}#sk-container-id-3 div.sk-parallel-item:last-child::after {align-self: flex-start;width: 50%;}#sk-container-id-3 div.sk-parallel-item:only-child::after {width: 0;}#sk-container-id-3 div.sk-dashed-wrapped {border: 1px dashed gray;margin: 0 0.4em 0.5em 0.4em;box-sizing: border-box;padding-bottom: 0.4em;background-color: white;}#sk-container-id-3 div.sk-label label {font-family: monospace;font-weight: bold;display: inline-block;line-height: 1.2em;}#sk-container-id-3 div.sk-label-container {text-align: center;}#sk-container-id-3 div.sk-container {/* jupyter's `normalize.less` sets `[hidden] { display: none; }` but bootstrap.min.css set `[hidden] { display: none !important; }` so we also need the `!important` here to be able to override the default hidden behavior on the sphinx rendered scikit-learn.org. See: https://github.com/scikit-learn/scikit-learn/issues/21755 */display: inline-block !important;position: relative;}#sk-container-id-3 div.sk-text-repr-fallback {display: none;}</style><div id=\"sk-container-id-3\" class=\"sk-top-container\"><div class=\"sk-text-repr-fallback\"><pre>KNeighborsClassifier(metric=&#x27;manhattan&#x27;, n_neighbors=3, weights=&#x27;distance&#x27;)</pre><b>In a Jupyter environment, please rerun this cell to show the HTML representation or trust the notebook. <br />On GitHub, the HTML representation is unable to render, please try loading this page with nbviewer.org.</b></div><div class=\"sk-container\" hidden><div class=\"sk-item\"><div class=\"sk-estimator sk-toggleable\"><input class=\"sk-toggleable__control sk-hidden--visually\" id=\"sk-estimator-id-5\" type=\"checkbox\" checked><label for=\"sk-estimator-id-5\" class=\"sk-toggleable__label sk-toggleable__label-arrow\">KNeighborsClassifier</label><div class=\"sk-toggleable__content\"><pre>KNeighborsClassifier(metric=&#x27;manhattan&#x27;, n_neighbors=3, weights=&#x27;distance&#x27;)</pre></div></div></div></div></div>"
      ],
      "text/plain": [
       "KNeighborsClassifier(metric='manhattan', n_neighbors=3, weights='distance')"
      ]
     },
     "execution_count": 28,
     "metadata": {},
     "output_type": "execute_result"
    }
   ],
   "source": [
    "#new model with best parameters\n",
    "best_knn = KNeighborsClassifier(n_neighbors=3, weights='distance', metric='manhattan')\n",
    "best_knn.fit(x_train, y_train)"
   ]
  },
  {
   "cell_type": "markdown",
   "id": "ddc3d7be",
   "metadata": {},
   "source": []
  },
  {
   "cell_type": "code",
   "execution_count": 29,
   "id": "7cd6ae98",
   "metadata": {},
   "outputs": [],
   "source": [
    "#predicting on testing set\n",
    "y_pred_new = best_knn.predict(x_test)"
   ]
  },
  {
   "cell_type": "markdown",
   "id": "a30adaaa",
   "metadata": {},
   "source": []
  },
  {
   "cell_type": "code",
   "execution_count": 30,
   "id": "dff1139f",
   "metadata": {},
   "outputs": [
    {
     "name": "stdout",
     "output_type": "stream",
     "text": [
      "Accuracy: 0.9473684210526315\n",
      "Precision: 0.9078947368421053\n",
      "Recall: 0.9473684210526315\n",
      "F1 Score: 0.9248120300751879\n",
      "              precision    recall  f1-score   support\n",
      "\n",
      "           1       1.00      1.00      1.00        10\n",
      "           2       0.75      1.00      0.86         3\n",
      "           3       0.00      0.00      0.00         1\n",
      "           4       1.00      1.00      1.00         2\n",
      "           6       1.00      1.00      1.00         2\n",
      "           7       1.00      1.00      1.00         1\n",
      "\n",
      "    accuracy                           0.95        19\n",
      "   macro avg       0.79      0.83      0.81        19\n",
      "weighted avg       0.91      0.95      0.92        19\n",
      "\n"
     ]
    },
    {
     "name": "stderr",
     "output_type": "stream",
     "text": [
      "C:\\ProgramData\\anaconda3\\Lib\\site-packages\\sklearn\\metrics\\_classification.py:1344: UndefinedMetricWarning: Precision is ill-defined and being set to 0.0 in labels with no predicted samples. Use `zero_division` parameter to control this behavior.\n",
      "  _warn_prf(average, modifier, msg_start, len(result))\n",
      "C:\\ProgramData\\anaconda3\\Lib\\site-packages\\sklearn\\metrics\\_classification.py:1344: UndefinedMetricWarning: Precision and F-score are ill-defined and being set to 0.0 in labels with no predicted samples. Use `zero_division` parameter to control this behavior.\n",
      "  _warn_prf(average, modifier, msg_start, len(result))\n",
      "C:\\ProgramData\\anaconda3\\Lib\\site-packages\\sklearn\\metrics\\_classification.py:1344: UndefinedMetricWarning: Precision and F-score are ill-defined and being set to 0.0 in labels with no predicted samples. Use `zero_division` parameter to control this behavior.\n",
      "  _warn_prf(average, modifier, msg_start, len(result))\n",
      "C:\\ProgramData\\anaconda3\\Lib\\site-packages\\sklearn\\metrics\\_classification.py:1344: UndefinedMetricWarning: Precision and F-score are ill-defined and being set to 0.0 in labels with no predicted samples. Use `zero_division` parameter to control this behavior.\n",
      "  _warn_prf(average, modifier, msg_start, len(result))\n"
     ]
    }
   ],
   "source": [
    "# model evaluation\n",
    "accuracy = accuracy_score(y_test, y_pred_new)\n",
    "precision = precision_score(y_test, y_pred_new, average='weighted')\n",
    "recall = recall_score(y_test, y_pred_new, average='weighted')\n",
    "f1 = f1_score(y_test, y_pred_new, average='weighted')\n",
    "\n",
    "print(f\"Accuracy: {accuracy}\")\n",
    "print(f\"Precision: {precision}\")\n",
    "print(f\"Recall: {recall}\")\n",
    "print(f\"F1 Score: {f1}\")\n",
    "# Detailed classification report\n",
    "print(classification_report(y_test, y_pred_new))"
   ]
  },
  {
   "cell_type": "markdown",
   "id": "7e454ce1",
   "metadata": {},
   "source": [
    "# Hyper parameter tunning to choose an appropriate distance metric and value for k\n"
   ]
  },
  {
   "cell_type": "code",
   "execution_count": 33,
   "id": "76cdd588",
   "metadata": {},
   "outputs": [
    {
     "name": "stdout",
     "output_type": "stream",
     "text": [
      "0.8488888888888889\n"
     ]
    }
   ],
   "source": [
    "#using k-fold technique\n",
    "from sklearn.model_selection import KFold\n",
    "num_folds = 10\n",
    "KFold = KFold(n_splits=10)\n",
    "#fitting model on entire dataset using kfold\n",
    "model1= KNeighborsClassifier(n_neighbors=3)\n",
    "results = cross_val_score(model, x, y, cv=KFold)\n",
    "\n",
    "#model accuracy\n",
    "print(results.mean())"
   ]
  },
  {
   "cell_type": "code",
   "execution_count": 34,
   "id": "9efe039b",
   "metadata": {},
   "outputs": [
    {
     "name": "stdout",
     "output_type": "stream",
     "text": [
      "Fitting 5 folds for each of 16 candidates, totalling 80 fits\n"
     ]
    },
    {
     "name": "stderr",
     "output_type": "stream",
     "text": [
      "C:\\ProgramData\\anaconda3\\Lib\\site-packages\\sklearn\\model_selection\\_split.py:700: UserWarning: The least populated class in y has only 2 members, which is less than n_splits=5.\n",
      "  warnings.warn(\n"
     ]
    },
    {
     "data": {
      "text/html": [
       "<style>#sk-container-id-4 {color: black;background-color: white;}#sk-container-id-4 pre{padding: 0;}#sk-container-id-4 div.sk-toggleable {background-color: white;}#sk-container-id-4 label.sk-toggleable__label {cursor: pointer;display: block;width: 100%;margin-bottom: 0;padding: 0.3em;box-sizing: border-box;text-align: center;}#sk-container-id-4 label.sk-toggleable__label-arrow:before {content: \"▸\";float: left;margin-right: 0.25em;color: #696969;}#sk-container-id-4 label.sk-toggleable__label-arrow:hover:before {color: black;}#sk-container-id-4 div.sk-estimator:hover label.sk-toggleable__label-arrow:before {color: black;}#sk-container-id-4 div.sk-toggleable__content {max-height: 0;max-width: 0;overflow: hidden;text-align: left;background-color: #f0f8ff;}#sk-container-id-4 div.sk-toggleable__content pre {margin: 0.2em;color: black;border-radius: 0.25em;background-color: #f0f8ff;}#sk-container-id-4 input.sk-toggleable__control:checked~div.sk-toggleable__content {max-height: 200px;max-width: 100%;overflow: auto;}#sk-container-id-4 input.sk-toggleable__control:checked~label.sk-toggleable__label-arrow:before {content: \"▾\";}#sk-container-id-4 div.sk-estimator input.sk-toggleable__control:checked~label.sk-toggleable__label {background-color: #d4ebff;}#sk-container-id-4 div.sk-label input.sk-toggleable__control:checked~label.sk-toggleable__label {background-color: #d4ebff;}#sk-container-id-4 input.sk-hidden--visually {border: 0;clip: rect(1px 1px 1px 1px);clip: rect(1px, 1px, 1px, 1px);height: 1px;margin: -1px;overflow: hidden;padding: 0;position: absolute;width: 1px;}#sk-container-id-4 div.sk-estimator {font-family: monospace;background-color: #f0f8ff;border: 1px dotted black;border-radius: 0.25em;box-sizing: border-box;margin-bottom: 0.5em;}#sk-container-id-4 div.sk-estimator:hover {background-color: #d4ebff;}#sk-container-id-4 div.sk-parallel-item::after {content: \"\";width: 100%;border-bottom: 1px solid gray;flex-grow: 1;}#sk-container-id-4 div.sk-label:hover label.sk-toggleable__label {background-color: #d4ebff;}#sk-container-id-4 div.sk-serial::before {content: \"\";position: absolute;border-left: 1px solid gray;box-sizing: border-box;top: 0;bottom: 0;left: 50%;z-index: 0;}#sk-container-id-4 div.sk-serial {display: flex;flex-direction: column;align-items: center;background-color: white;padding-right: 0.2em;padding-left: 0.2em;position: relative;}#sk-container-id-4 div.sk-item {position: relative;z-index: 1;}#sk-container-id-4 div.sk-parallel {display: flex;align-items: stretch;justify-content: center;background-color: white;position: relative;}#sk-container-id-4 div.sk-item::before, #sk-container-id-4 div.sk-parallel-item::before {content: \"\";position: absolute;border-left: 1px solid gray;box-sizing: border-box;top: 0;bottom: 0;left: 50%;z-index: -1;}#sk-container-id-4 div.sk-parallel-item {display: flex;flex-direction: column;z-index: 1;position: relative;background-color: white;}#sk-container-id-4 div.sk-parallel-item:first-child::after {align-self: flex-end;width: 50%;}#sk-container-id-4 div.sk-parallel-item:last-child::after {align-self: flex-start;width: 50%;}#sk-container-id-4 div.sk-parallel-item:only-child::after {width: 0;}#sk-container-id-4 div.sk-dashed-wrapped {border: 1px dashed gray;margin: 0 0.4em 0.5em 0.4em;box-sizing: border-box;padding-bottom: 0.4em;background-color: white;}#sk-container-id-4 div.sk-label label {font-family: monospace;font-weight: bold;display: inline-block;line-height: 1.2em;}#sk-container-id-4 div.sk-label-container {text-align: center;}#sk-container-id-4 div.sk-container {/* jupyter's `normalize.less` sets `[hidden] { display: none; }` but bootstrap.min.css set `[hidden] { display: none !important; }` so we also need the `!important` here to be able to override the default hidden behavior on the sphinx rendered scikit-learn.org. See: https://github.com/scikit-learn/scikit-learn/issues/21755 */display: inline-block !important;position: relative;}#sk-container-id-4 div.sk-text-repr-fallback {display: none;}</style><div id=\"sk-container-id-4\" class=\"sk-top-container\"><div class=\"sk-text-repr-fallback\"><pre>GridSearchCV(cv=5, estimator=KNeighborsClassifier(), n_jobs=-1,\n",
       "             param_grid={&#x27;metric&#x27;: [&#x27;euclidean&#x27;, &#x27;manhattan&#x27;],\n",
       "                         &#x27;n_neighbors&#x27;: [3, 5, 7, 9],\n",
       "                         &#x27;weights&#x27;: [&#x27;uniform&#x27;, &#x27;distance&#x27;]},\n",
       "             scoring=&#x27;accuracy&#x27;, verbose=1)</pre><b>In a Jupyter environment, please rerun this cell to show the HTML representation or trust the notebook. <br />On GitHub, the HTML representation is unable to render, please try loading this page with nbviewer.org.</b></div><div class=\"sk-container\" hidden><div class=\"sk-item sk-dashed-wrapped\"><div class=\"sk-label-container\"><div class=\"sk-label sk-toggleable\"><input class=\"sk-toggleable__control sk-hidden--visually\" id=\"sk-estimator-id-6\" type=\"checkbox\" ><label for=\"sk-estimator-id-6\" class=\"sk-toggleable__label sk-toggleable__label-arrow\">GridSearchCV</label><div class=\"sk-toggleable__content\"><pre>GridSearchCV(cv=5, estimator=KNeighborsClassifier(), n_jobs=-1,\n",
       "             param_grid={&#x27;metric&#x27;: [&#x27;euclidean&#x27;, &#x27;manhattan&#x27;],\n",
       "                         &#x27;n_neighbors&#x27;: [3, 5, 7, 9],\n",
       "                         &#x27;weights&#x27;: [&#x27;uniform&#x27;, &#x27;distance&#x27;]},\n",
       "             scoring=&#x27;accuracy&#x27;, verbose=1)</pre></div></div></div><div class=\"sk-parallel\"><div class=\"sk-parallel-item\"><div class=\"sk-item\"><div class=\"sk-label-container\"><div class=\"sk-label sk-toggleable\"><input class=\"sk-toggleable__control sk-hidden--visually\" id=\"sk-estimator-id-7\" type=\"checkbox\" ><label for=\"sk-estimator-id-7\" class=\"sk-toggleable__label sk-toggleable__label-arrow\">estimator: KNeighborsClassifier</label><div class=\"sk-toggleable__content\"><pre>KNeighborsClassifier()</pre></div></div></div><div class=\"sk-serial\"><div class=\"sk-item\"><div class=\"sk-estimator sk-toggleable\"><input class=\"sk-toggleable__control sk-hidden--visually\" id=\"sk-estimator-id-8\" type=\"checkbox\" ><label for=\"sk-estimator-id-8\" class=\"sk-toggleable__label sk-toggleable__label-arrow\">KNeighborsClassifier</label><div class=\"sk-toggleable__content\"><pre>KNeighborsClassifier()</pre></div></div></div></div></div></div></div></div></div></div>"
      ],
      "text/plain": [
       "GridSearchCV(cv=5, estimator=KNeighborsClassifier(), n_jobs=-1,\n",
       "             param_grid={'metric': ['euclidean', 'manhattan'],\n",
       "                         'n_neighbors': [3, 5, 7, 9],\n",
       "                         'weights': ['uniform', 'distance']},\n",
       "             scoring='accuracy', verbose=1)"
      ]
     },
     "execution_count": 34,
     "metadata": {},
     "output_type": "execute_result"
    }
   ],
   "source": [
    "#Model performance is increased\n",
    "\n",
    "#using GridSearchCV for parameter tuning and optimization\n",
    "KNN= KNeighborsClassifier()\n",
    "param_grid = {\n",
    "    'n_neighbors': [3, 5, 7, 9],\n",
    "    'weights': ['uniform', 'distance'],\n",
    "    'metric':['euclidean','manhattan']}\n",
    "grid_search =GridSearchCV(estimator=KNN,param_grid=param_grid,cv=5,scoring='accuracy',verbose=1,n_jobs=-1)\n",
    "grid_search.fit(x_train, y_train)"
   ]
  },
  {
   "cell_type": "code",
   "execution_count": 35,
   "id": "3880b92e",
   "metadata": {},
   "outputs": [
    {
     "name": "stdout",
     "output_type": "stream",
     "text": [
      "Best parameters found: {'metric': 'manhattan', 'n_neighbors': 3, 'weights': 'distance'}\n",
      "Best cross-validation score: 0.9733333333333334\n"
     ]
    }
   ],
   "source": [
    "#best parameters and cross validation score\n",
    "print(\"Best parameters found:\", grid_search.best_params_)\n",
    "print(\"Best cross-validation score:\", grid_search.best_score_)"
   ]
  },
  {
   "cell_type": "code",
   "execution_count": 36,
   "id": "28b623cb",
   "metadata": {},
   "outputs": [
    {
     "data": {
      "text/html": [
       "<style>#sk-container-id-5 {color: black;background-color: white;}#sk-container-id-5 pre{padding: 0;}#sk-container-id-5 div.sk-toggleable {background-color: white;}#sk-container-id-5 label.sk-toggleable__label {cursor: pointer;display: block;width: 100%;margin-bottom: 0;padding: 0.3em;box-sizing: border-box;text-align: center;}#sk-container-id-5 label.sk-toggleable__label-arrow:before {content: \"▸\";float: left;margin-right: 0.25em;color: #696969;}#sk-container-id-5 label.sk-toggleable__label-arrow:hover:before {color: black;}#sk-container-id-5 div.sk-estimator:hover label.sk-toggleable__label-arrow:before {color: black;}#sk-container-id-5 div.sk-toggleable__content {max-height: 0;max-width: 0;overflow: hidden;text-align: left;background-color: #f0f8ff;}#sk-container-id-5 div.sk-toggleable__content pre {margin: 0.2em;color: black;border-radius: 0.25em;background-color: #f0f8ff;}#sk-container-id-5 input.sk-toggleable__control:checked~div.sk-toggleable__content {max-height: 200px;max-width: 100%;overflow: auto;}#sk-container-id-5 input.sk-toggleable__control:checked~label.sk-toggleable__label-arrow:before {content: \"▾\";}#sk-container-id-5 div.sk-estimator input.sk-toggleable__control:checked~label.sk-toggleable__label {background-color: #d4ebff;}#sk-container-id-5 div.sk-label input.sk-toggleable__control:checked~label.sk-toggleable__label {background-color: #d4ebff;}#sk-container-id-5 input.sk-hidden--visually {border: 0;clip: rect(1px 1px 1px 1px);clip: rect(1px, 1px, 1px, 1px);height: 1px;margin: -1px;overflow: hidden;padding: 0;position: absolute;width: 1px;}#sk-container-id-5 div.sk-estimator {font-family: monospace;background-color: #f0f8ff;border: 1px dotted black;border-radius: 0.25em;box-sizing: border-box;margin-bottom: 0.5em;}#sk-container-id-5 div.sk-estimator:hover {background-color: #d4ebff;}#sk-container-id-5 div.sk-parallel-item::after {content: \"\";width: 100%;border-bottom: 1px solid gray;flex-grow: 1;}#sk-container-id-5 div.sk-label:hover label.sk-toggleable__label {background-color: #d4ebff;}#sk-container-id-5 div.sk-serial::before {content: \"\";position: absolute;border-left: 1px solid gray;box-sizing: border-box;top: 0;bottom: 0;left: 50%;z-index: 0;}#sk-container-id-5 div.sk-serial {display: flex;flex-direction: column;align-items: center;background-color: white;padding-right: 0.2em;padding-left: 0.2em;position: relative;}#sk-container-id-5 div.sk-item {position: relative;z-index: 1;}#sk-container-id-5 div.sk-parallel {display: flex;align-items: stretch;justify-content: center;background-color: white;position: relative;}#sk-container-id-5 div.sk-item::before, #sk-container-id-5 div.sk-parallel-item::before {content: \"\";position: absolute;border-left: 1px solid gray;box-sizing: border-box;top: 0;bottom: 0;left: 50%;z-index: -1;}#sk-container-id-5 div.sk-parallel-item {display: flex;flex-direction: column;z-index: 1;position: relative;background-color: white;}#sk-container-id-5 div.sk-parallel-item:first-child::after {align-self: flex-end;width: 50%;}#sk-container-id-5 div.sk-parallel-item:last-child::after {align-self: flex-start;width: 50%;}#sk-container-id-5 div.sk-parallel-item:only-child::after {width: 0;}#sk-container-id-5 div.sk-dashed-wrapped {border: 1px dashed gray;margin: 0 0.4em 0.5em 0.4em;box-sizing: border-box;padding-bottom: 0.4em;background-color: white;}#sk-container-id-5 div.sk-label label {font-family: monospace;font-weight: bold;display: inline-block;line-height: 1.2em;}#sk-container-id-5 div.sk-label-container {text-align: center;}#sk-container-id-5 div.sk-container {/* jupyter's `normalize.less` sets `[hidden] { display: none; }` but bootstrap.min.css set `[hidden] { display: none !important; }` so we also need the `!important` here to be able to override the default hidden behavior on the sphinx rendered scikit-learn.org. See: https://github.com/scikit-learn/scikit-learn/issues/21755 */display: inline-block !important;position: relative;}#sk-container-id-5 div.sk-text-repr-fallback {display: none;}</style><div id=\"sk-container-id-5\" class=\"sk-top-container\"><div class=\"sk-text-repr-fallback\"><pre>KNeighborsClassifier(metric=&#x27;manhattan&#x27;, n_neighbors=3, weights=&#x27;distance&#x27;)</pre><b>In a Jupyter environment, please rerun this cell to show the HTML representation or trust the notebook. <br />On GitHub, the HTML representation is unable to render, please try loading this page with nbviewer.org.</b></div><div class=\"sk-container\" hidden><div class=\"sk-item\"><div class=\"sk-estimator sk-toggleable\"><input class=\"sk-toggleable__control sk-hidden--visually\" id=\"sk-estimator-id-9\" type=\"checkbox\" checked><label for=\"sk-estimator-id-9\" class=\"sk-toggleable__label sk-toggleable__label-arrow\">KNeighborsClassifier</label><div class=\"sk-toggleable__content\"><pre>KNeighborsClassifier(metric=&#x27;manhattan&#x27;, n_neighbors=3, weights=&#x27;distance&#x27;)</pre></div></div></div></div></div>"
      ],
      "text/plain": [
       "KNeighborsClassifier(metric='manhattan', n_neighbors=3, weights='distance')"
      ]
     },
     "execution_count": 36,
     "metadata": {},
     "output_type": "execute_result"
    }
   ],
   "source": [
    "#new model with best parameters\n",
    "best_knn = KNeighborsClassifier(n_neighbors=3, weights='distance', metric='manhattan')\n",
    "best_knn.fit(x_train, y_train)"
   ]
  },
  {
   "cell_type": "markdown",
   "id": "8a675a2d",
   "metadata": {},
   "source": [
    "# Classifier's performance on testing set \n"
   ]
  },
  {
   "cell_type": "code",
   "execution_count": 37,
   "id": "52fcfdb0",
   "metadata": {},
   "outputs": [
    {
     "name": "stdout",
     "output_type": "stream",
     "text": [
      "Accuracy: 0.9473684210526315\n",
      "Precision: 0.9078947368421053\n",
      "Recall: 0.9473684210526315\n",
      "F1 Score: 0.9248120300751879\n",
      "              precision    recall  f1-score   support\n",
      "\n",
      "           1       1.00      1.00      1.00        10\n",
      "           2       0.75      1.00      0.86         3\n",
      "           3       0.00      0.00      0.00         1\n",
      "           4       1.00      1.00      1.00         2\n",
      "           6       1.00      1.00      1.00         2\n",
      "           7       1.00      1.00      1.00         1\n",
      "\n",
      "    accuracy                           0.95        19\n",
      "   macro avg       0.79      0.83      0.81        19\n",
      "weighted avg       0.91      0.95      0.92        19\n",
      "\n"
     ]
    },
    {
     "name": "stderr",
     "output_type": "stream",
     "text": [
      "C:\\ProgramData\\anaconda3\\Lib\\site-packages\\sklearn\\metrics\\_classification.py:1344: UndefinedMetricWarning: Precision is ill-defined and being set to 0.0 in labels with no predicted samples. Use `zero_division` parameter to control this behavior.\n",
      "  _warn_prf(average, modifier, msg_start, len(result))\n",
      "C:\\ProgramData\\anaconda3\\Lib\\site-packages\\sklearn\\metrics\\_classification.py:1344: UndefinedMetricWarning: Precision and F-score are ill-defined and being set to 0.0 in labels with no predicted samples. Use `zero_division` parameter to control this behavior.\n",
      "  _warn_prf(average, modifier, msg_start, len(result))\n",
      "C:\\ProgramData\\anaconda3\\Lib\\site-packages\\sklearn\\metrics\\_classification.py:1344: UndefinedMetricWarning: Precision and F-score are ill-defined and being set to 0.0 in labels with no predicted samples. Use `zero_division` parameter to control this behavior.\n",
      "  _warn_prf(average, modifier, msg_start, len(result))\n",
      "C:\\ProgramData\\anaconda3\\Lib\\site-packages\\sklearn\\metrics\\_classification.py:1344: UndefinedMetricWarning: Precision and F-score are ill-defined and being set to 0.0 in labels with no predicted samples. Use `zero_division` parameter to control this behavior.\n",
      "  _warn_prf(average, modifier, msg_start, len(result))\n"
     ]
    }
   ],
   "source": [
    "#predicting on testing set\n",
    "y_pred_new = best_knn.predict(x_test)\n",
    "\n",
    "#model evaluation\n",
    "accuracy = accuracy_score(y_test, y_pred_new)\n",
    "precision = precision_score(y_test, y_pred_new, average='weighted')\n",
    "recall = recall_score(y_test, y_pred_new, average='weighted')\n",
    "f1 = f1_score(y_test, y_pred_new, average='weighted')\n",
    "\n",
    "print(f\"Accuracy: {accuracy}\")\n",
    "print(f\"Precision: {precision}\")\n",
    "print(f\"Recall: {recall}\")\n",
    "print(f\"F1 Score: {f1}\")\n",
    "# Detailed classification report\n",
    "print(classification_report(y_test, y_pred_new))\n"
   ]
  },
  {
   "cell_type": "markdown",
   "id": "87891008",
   "metadata": {},
   "source": [
    "New model shows better performance  compare to before model \n"
   ]
  },
  {
   "cell_type": "markdown",
   "id": "3250beac",
   "metadata": {},
   "source": [
    "# Visualization of decision boundaries of the classifier "
   ]
  },
  {
   "cell_type": "code",
   "execution_count": 38,
   "id": "703974f2",
   "metadata": {},
   "outputs": [
    {
     "name": "stderr",
     "output_type": "stream",
     "text": [
      "C:\\ProgramData\\anaconda3\\Lib\\site-packages\\sklearn\\base.py:439: UserWarning: X does not have valid feature names, but KNeighborsClassifier was fitted with feature names\n",
      "  warnings.warn(\n"
     ]
    },
    {
     "data": {
      "image/png": "[encoded data removed]",
      "text/plain": [
       "<Figure size 640x480 with 1 Axes>"
      ]
     },
     "metadata": {},
     "output_type": "display_data"
    }
   ],
   "source": [
    "import matplotlib.pyplot as plt\n",
    "import numpy as np\n",
    "import pandas as pd # Import pandas for DataFrame manipulation\n",
    "\n",
    "# Create a mesh grid\n",
    "h = .02  # Step size in the mesh\n",
    "\n",
    "# Ensure the meshgrid covers all features used in training\n",
    "x_min, x_max = x_train.min().min() - 1, x_train.max().max() + 1\n",
    "y_min, y_max = x_train.min().min() - 1, x_train.max().max() + 1\n",
    "xx, yy = np.meshgrid(np.arange(x_min, x_max, h),\n",
    "                     np.arange(y_min, y_max, h))\n",
    "\n",
    "# Create a DataFrame for the meshgrid with the correct number of features\n",
    "grid_df = pd.DataFrame(np.c_[xx.ravel(), yy.ravel()])\n",
    "for i in range(2, x_train.shape[1]): # Add columns for remaining features\n",
    "    grid_df[i] = 0\n",
    "\n",
    "# Predict on the mesh grid\n",
    "best_knn = grid_search.best_estimator_\n",
    "Z = best_knn.predict(grid_df)\n",
    "Z = Z.reshape(xx.shape)\n",
    "\n",
    "# Plot\n",
    "plt.contourf(xx, yy, Z, alpha=0.8)\n",
    "plt.scatter(x_train.iloc[:, 0], x_train.iloc[:, 1], c=y_train, edgecolor='k', marker='o')\n",
    "plt.xlabel('Feature 1')\n",
    "plt.ylabel('Feature 2')\n",
    "plt.title('Decision Boundaries')\n",
    "plt.show()"
   ]
  },
  {
   "cell_type": "markdown",
   "id": "cf4e9ca1",
   "metadata": {},
   "source": [
    "Interview questions \n",
    "\n",
    "1 What are the key hyperparameters in KNN?\n",
    "n_neighbors:The number of neighbors to consider when making predictions. A smaller value can make the model more sensitive to noise, while a larger value can smooth out predictions but may lead to underfitting.\n",
    "\n",
    "weights:Specifies how to weight the contribution of neighbors.\n",
    "\n",
    "1)uniform: All neighbors have equal weight.\n",
    "\n",
    "2)distance: Neighbors closer to the point being predicted have more influence.\n",
    "\n",
    "metric: The distance metric used to compute distances between data points.\n",
    "\n",
    "euclidean: Straight-line distance.\n",
    "\n",
    "manhattan: Sum of absolute differences.\n",
    "\n",
    "minkowski: Generalized distance (with a parameter p).\n",
    "\n",
    "custom: User-defined distance metric.\n",
    "\n",
    "#-----------------------------------------------------------------\n",
    "\n",
    "2 What distance metrics can be used in KNN?\n",
    "Euclidean Distance: The straight-line distance between two points in Euclidean space. It’s the default metric if p=2.\n",
    "\n",
    "Manhattan Distance: The sum of absolute differences between coordinates. Also known as L1 norm.\n",
    "\n",
    "Minkowski Distance: A generalization of Euclidean and Manhattan distances. The parameter p controls the distance type:\n",
    "\n",
    "p=1: Manhattan distance.\n",
    "\n",
    "p=2: Euclidean distance.\n",
    "\n",
    "Other values: For different types of distances.\n",
    "\n",
    "Chebyshev Distance: The maximum absolute difference along any coordinate dimension. This can be considered as a special case of Minkowski distance with p=infinity.\n",
    "\n",
    "Hamming Distance: Used for categorical variables or binary vectors.\n",
    "\n",
    "Cosine Similarity: Measures the cosine of the angle between two vectors, often used in text analysis and high-dimensional data."
   ]
  },
  {
   "cell_type": "code",
   "execution_count": null,
   "id": "1fe4017a",
   "metadata": {},
   "outputs": [],
   "source": []
  }
 ],
 "metadata": {
  "kernelspec": {
   "display_name": "Python 3 (ipykernel)",
   "language": "python",
   "name": "python3"
  },
  "language_info": {
   "codemirror_mode": {
    "name": "ipython",
    "version": 3
   },
   "file_extension": ".py",
   "mimetype": "text/x-python",
   "name": "python",
   "nbconvert_exporter": "python",
   "pygments_lexer": "ipython3",
   "version": "3.11.3"
  }
 },
 "nbformat": 4,
 "nbformat_minor": 5
}

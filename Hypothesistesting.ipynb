{
 "cells": [
  {
   "cell_type": "markdown",
   "id": "62c17c8a-cab4-48fe-83dd-9644213b4cab",
   "metadata": {},
   "source": [
    "## Hypothesis Testing"
   ]
  },
  {
   "cell_type": "markdown",
   "id": "7d1fd4ef-3882-44e6-aa2c-3ab66b087559",
   "metadata": {},
   "source": [
    "Hypothesis Statement:\n",
    "H0:Null Hypothesis\n",
    "H1:Alternate Hypothesis"
   ]
  },
  {
   "cell_type": "markdown",
   "id": "e84923be-350c-47ef-9796-a78b112b73c4",
   "metadata": {},
   "source": [
    "Null Hypothesis (H0): The mean weekly operating cost is equal to the theoretical cost model, i.e.,(mu = 3050) where W =(1000 + 5*600).\n",
    "Alternative Hypothesis (H1): The mean weekly operating cost is greater than the theoretical cost model, i.e.,(mu > 3050)."
   ]
  },
  {
   "cell_type": "markdown",
   "id": "1a043cc4-4276-4293-8e09-69fb8a680661",
   "metadata": {},
   "source": [
    "#Calculating Test Statistic"
   ]
  },
  {
   "cell_type": "markdown",
   "id": "c49075b3-2cf7-4583-8512-8914dc7921c9",
   "metadata": {},
   "source": [
    "t=(X'-mu)/(sigma/sqrt(n))"
   ]
  },
  {
   "cell_type": "code",
   "execution_count": 25,
   "id": "3360a2d9-d5c8-48bf-9bbd-5067702e96de",
   "metadata": {},
   "outputs": [
    {
     "data": {
      "text/plain": [
       "(-38.0,\n",
       " 1.644853626951472,\n",
       " 'Reject H0',\n",
       " \"There is strong evidence to support the restaurant owners' claim.\")"
      ]
     },
     "execution_count": 25,
     "metadata": {},
     "output_type": "execute_result"
    }
   ],
   "source": [
    "import numpy as np\n",
    "from scipy import stats\n",
    "\n",
    "# Given data\n",
    "sample_mean = 3050  # sample mean weekly cost\n",
    "theoretical_mean = 1000 + 5 * 600  # theoretical mean weekly cost\n",
    "sigma = 5 * 25  # standard deviation\n",
    "n = 25  # sample size\n",
    "\n",
    "# Calculate the test statistic\n",
    "t_statistic = (sample_mean - theoretical_mean) / (sigma / np.sqrt(n))\n",
    "\n",
    "# Critical value for one-tailed test at alpha = 0.05\n",
    "alpha = 0.05\n",
    "critical_value = stats.norm.ppf(1 - alpha)\n",
    "\n",
    "# Decision\n",
    "decision = \"Reject H0\" if t_statistic < critical_value else \"Fail to reject H0\"\n",
    "\n",
    "# Conclusion\n",
    "conclusion = \"There is strong evidence to support the restaurant owners' claim.\" if decision == \"Reject H0\" else \"There is not enough evidence to support the restaurant owners' claim.\"\n",
    "\n",
    "t_statistic, critical_value, decision, conclusion"
   ]
  },
  {
   "cell_type": "markdown",
   "id": "46c22781-7b1a-47e1-b787-44c7cd322647",
   "metadata": {},
   "source": [
    "Conclusion:\n",
    "Test Statistic: -38.0,\n",
    "Critical Value: 1.644853626951472."
   ]
  },
  {
   "cell_type": "markdown",
   "id": "92a18bec-3e9b-4cee-9978-5a81a149b0ad",
   "metadata": {},
   "source": [
    "If the test statistic is greater than the critical value, we reject the null hypothesis."
   ]
  }
 ],
 "metadata": {
  "kernelspec": {
   "display_name": "Python 3 (ipykernel)",
   "language": "python",
   "name": "python3"
  },
  "language_info": {
   "codemirror_mode": {
    "name": "ipython",
    "version": 3
   },
   "file_extension": ".py",
   "mimetype": "text/x-python",
   "name": "python",
   "nbconvert_exporter": "python",
   "pygments_lexer": "ipython3",
   "version": "3.10.14"
  }
 },
 "nbformat": 4,
 "nbformat_minor": 5
}
